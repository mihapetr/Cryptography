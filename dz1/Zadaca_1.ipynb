{
 "cells": [
  {
   "cell_type": "markdown",
   "id": "ff04a6b5",
   "metadata": {},
   "source": [
    "<center><h1> Kriptografija i sigurnost mreža </h1>\n",
    "<h1>Zadaća 1</h1>\n",
    "<h2>Mihael Petrinjak</h2></center>"
   ]
  },
  {
   "cell_type": "markdown",
   "id": "9c393eef",
   "metadata": {},
   "source": [
    "## Zadatak 1"
   ]
  },
  {
   "cell_type": "markdown",
   "id": "3aaf04a3",
   "metadata": {},
   "source": [
    "Definiramo funkcije za pomak slova ulijevo."
   ]
  },
  {
   "cell_type": "code",
   "execution_count": 1,
   "id": "9b712d10",
   "metadata": {},
   "outputs": [],
   "source": [
    "def previous(c):\n",
    "    c = c.upper()\n",
    "    if c == \"A\" : return \"Z\"\n",
    "    else : return chr(ord(c)-1)\n",
    "    \n",
    "def rewind(txt):\n",
    "    rez = \"\"\n",
    "    for c in txt:\n",
    "        rez = rez + previous(c)\n",
    "    return rez"
   ]
  },
  {
   "cell_type": "markdown",
   "id": "8cf4cc37",
   "metadata": {},
   "source": [
    "Ispisat ćemo niz riječi dobivenih uzastopnim korištenjem funkcije `rewind`."
   ]
  },
  {
   "cell_type": "code",
   "execution_count": 2,
   "id": "fab2f3a4",
   "metadata": {},
   "outputs": [
    {
     "name": "stdout",
     "output_type": "stream",
     "text": [
      "1 : RSKSQIX\n",
      "2 : QRJRPHW\n",
      "3 : PQIQOGV\n",
      "4 : OPHPNFU\n",
      "5 : NOGOMET\n",
      "6 : MNFNLDS\n",
      "7 : LMEMKCR\n",
      "8 : KLDLJBQ\n",
      "9 : JKCKIAP\n"
     ]
    }
   ],
   "source": [
    "sifrat = \"STLTRJY\"\n",
    "\n",
    "for i in range(1,10):\n",
    "    sifrat = rewind(sifrat)\n",
    "    print(f\"{i} : {sifrat}\")"
   ]
  },
  {
   "cell_type": "markdown",
   "id": "53a880f5",
   "metadata": {},
   "source": [
    "Vidimo da se u prvih 10 pomaka na mjestu 5 javlja riječ **NOGOMET**."
   ]
  },
  {
   "cell_type": "markdown",
   "id": "9f3cde97",
   "metadata": {},
   "source": [
    "## Zadatak 2"
   ]
  },
  {
   "cell_type": "markdown",
   "id": "cf8a9330",
   "metadata": {},
   "source": [
    "Prvo uredimo šifrat u string bez separatora."
   ]
  },
  {
   "cell_type": "code",
   "execution_count": 3,
   "id": "9e8cdafd",
   "metadata": {},
   "outputs": [
    {
     "data": {
      "text/plain": [
       "'HEDYMLNVELDCNCFQLILSTFRHLQIDXTOROLCQFUMFWQLBDNCLTORBTFILNCYFIODNTAYTYDQILXFITILXFYTNCTFWGDDMADSLCDYDOMTHTCTEWRMITQDNGFIUYFQDMDODXILTOMFOTFQDNGILCNXFITOMFOSTRUDYTOR'"
      ]
     },
     "execution_count": 3,
     "metadata": {},
     "output_type": "execute_result"
    }
   ],
   "source": [
    "sifrat = '''HEDYM LNVEL DCNCF QLILS TFRHL QIDXT OROLC QFUMF\n",
    "WQLBD NCLTO RBTFI LNCYF IODNT AYTYD QILXF ITILX\n",
    "FYTNC TFWGD DMADS LCDYD OMTHT CTEWR MITQD NGFIU\n",
    "YFQDM DODXI LTOMF OTFQD NGILC NXFIT OMFOS TRUDY TOR'''\n",
    "\n",
    "(sifrat := sifrat.replace(\" \", \"\").replace(\"\\n\", \"\"))"
   ]
  },
  {
   "cell_type": "markdown",
   "id": "381bcdc5",
   "metadata": {},
   "source": [
    "Brojimo ponavljanja individualnih slova u šifratu."
   ]
  },
  {
   "cell_type": "code",
   "execution_count": 4,
   "id": "3138a081",
   "metadata": {},
   "outputs": [],
   "source": [
    "frekvencija = {}\n",
    "\n",
    "for c in sifrat :\n",
    "    try : frekvencija[c] += 1\n",
    "    except KeyError : frekvencija[c] = 1"
   ]
  },
  {
   "cell_type": "markdown",
   "id": "26968d48",
   "metadata": {},
   "source": [
    "Za prikaz dijagrama potrebna nam je biblioteka `matplotlib`."
   ]
  },
  {
   "cell_type": "code",
   "execution_count": 5,
   "id": "97318ea2",
   "metadata": {},
   "outputs": [],
   "source": [
    "import matplotlib.pyplot as plt"
   ]
  },
  {
   "cell_type": "markdown",
   "id": "a6443d98",
   "metadata": {},
   "source": [
    "Nakon sortiranja vrijednosti dobivamo sljedeći prikaz."
   ]
  },
  {
   "cell_type": "code",
   "execution_count": 6,
   "id": "3e16c756",
   "metadata": {},
   "outputs": [
    {
     "data": {
      "text/plain": [
       "<BarContainer object of 22 artists>"
      ]
     },
     "execution_count": 6,
     "metadata": {},
     "output_type": "execute_result"
    },
    {
     "data": {
      "image/png": "[encoded data removed]",
      "text/plain": [
       "<Figure size 640x480 with 1 Axes>"
      ]
     },
     "metadata": {},
     "output_type": "display_data"
    }
   ],
   "source": [
    "frekvencija = {k: v for k, v in sorted(frekvencija.items(), key=lambda item: item[1])}\n",
    "plt.bar(frekvencija.keys(), frekvencija.values())"
   ]
  },
  {
   "cell_type": "markdown",
   "id": "5795fd76",
   "metadata": {},
   "source": [
    "Na isti način prikazujemo zastupljenost bigrama."
   ]
  },
  {
   "cell_type": "code",
   "execution_count": 7,
   "id": "b88e40c3",
   "metadata": {},
   "outputs": [],
   "source": [
    "frekvencija_b = {}\n",
    "\n",
    "for i in range(0,len(sifrat)-1) :\n",
    "    try : frekvencija_b[sifrat[i:i+2]] += 1\n",
    "    except KeyError : frekvencija_b[sifrat[i:i+2]] = 1"
   ]
  },
  {
   "cell_type": "markdown",
   "id": "0e24d844",
   "metadata": {},
   "source": [
    "Radi preglednosti izbacujemo one koji se javljaju manje od 3 puta."
   ]
  },
  {
   "cell_type": "code",
   "execution_count": 8,
   "id": "01063482",
   "metadata": {},
   "outputs": [
    {
     "data": {
      "text/plain": [
       "<BarContainer object of 16 artists>"
      ]
     },
     "execution_count": 8,
     "metadata": {},
     "output_type": "execute_result"
    },
    {
     "data": {
      "image/png": "[encoded data removed]",
      "text/plain": [
       "<Figure size 640x480 with 1 Axes>"
      ]
     },
     "metadata": {},
     "output_type": "display_data"
    }
   ],
   "source": [
    "frekvencija_b = {k : v for k, v in frekvencija_b.items() if v > 2}\n",
    "frekvencija_b = {k: v for k, v in sorted(frekvencija_b.items(), key=lambda item: item[1])}\n",
    "plt.bar(frekvencija_b.keys(), frekvencija_b.values())"
   ]
  },
  {
   "cell_type": "markdown",
   "id": "48bca563",
   "metadata": {},
   "source": [
    "5 najfrekventnijih slova u šifratu su **T, D, F, L, I**.<br>\n",
    "5 najfrekventnijih bigrama su **IL, FI, TO, DN, TF**."
   ]
  },
  {
   "cell_type": "markdown",
   "id": "256594a8",
   "metadata": {},
   "source": [
    "Pišemo indeks svakog slova u $Z_{26}$"
   ]
  },
  {
   "cell_type": "code",
   "execution_count": 9,
   "id": "bffc15eb",
   "metadata": {},
   "outputs": [
    {
     "data": {
      "text/plain": [
       "{'A': 0,\n",
       " 'B': 1,\n",
       " 'C': 2,\n",
       " 'D': 3,\n",
       " 'E': 4,\n",
       " 'F': 5,\n",
       " 'G': 6,\n",
       " 'H': 7,\n",
       " 'I': 8,\n",
       " 'J': 9,\n",
       " 'K': 10,\n",
       " 'L': 11,\n",
       " 'M': 12,\n",
       " 'N': 13,\n",
       " 'O': 14,\n",
       " 'P': 15,\n",
       " 'Q': 16,\n",
       " 'R': 17,\n",
       " 'S': 18,\n",
       " 'T': 19,\n",
       " 'U': 20,\n",
       " 'V': 21,\n",
       " 'W': 22,\n",
       " 'X': 23,\n",
       " 'Y': 24,\n",
       " 'Z': 25}"
      ]
     },
     "execution_count": 9,
     "metadata": {},
     "output_type": "execute_result"
    }
   ],
   "source": [
    "(indeks := {c : ord(c) - 65 for c in \"ABCDEFGHIJKLMNOPQRSTUVWXYZ\"})"
   ]
  },
  {
   "cell_type": "markdown",
   "id": "1f6f163c",
   "metadata": {},
   "source": [
    "Potrebna nam je mapa invertibilnih brojeva i njihovih inverza."
   ]
  },
  {
   "cell_type": "code",
   "execution_count": 10,
   "id": "b31bf841",
   "metadata": {},
   "outputs": [],
   "source": [
    "inverse = {\n",
    "    1:1,\n",
    "    3:9,\n",
    "    5:21,\n",
    "    7:15,\n",
    "    9:3,\n",
    "    11:19,\n",
    "    15:7,\n",
    "    17:23,\n",
    "    19:11,\n",
    "    21:5,\n",
    "    23:17,\n",
    "    25:25\n",
    "}"
   ]
  },
  {
   "cell_type": "markdown",
   "id": "330ce9a0",
   "metadata": {},
   "source": [
    "Definiramo funkcije za šifriranje i dešifriranje."
   ]
  },
  {
   "cell_type": "code",
   "execution_count": 11,
   "id": "c5d48a82",
   "metadata": {},
   "outputs": [],
   "source": [
    "def e(a,b,txt) :\n",
    "    rez = \"\"\n",
    "    for c in txt:\n",
    "        rez += chr(65 + (indeks[c] * a + b) % 26)\n",
    "    return rez\n",
    "\n",
    "def d(a,b,txt) :\n",
    "    rez = \"\"\n",
    "    for c in txt:\n",
    "        rez += chr(65 + (inverse[a]*(indeks[c] - b)) % 26)\n",
    "    return rez"
   ]
  },
  {
   "cell_type": "markdown",
   "id": "49042afc",
   "metadata": {},
   "source": [
    "Kod metode pokušaja i pogrešaka koristit ćemo početni komad teksta."
   ]
  },
  {
   "cell_type": "code",
   "execution_count": 12,
   "id": "05f9636b",
   "metadata": {},
   "outputs": [],
   "source": [
    "komad = sifrat[0:25]"
   ]
  },
  {
   "cell_type": "markdown",
   "id": "369da610",
   "metadata": {},
   "source": [
    "Prva pretpostavka je da se A preslikava u najfrekventnije slovo u šifratu T, osnosno $d_k(0) \\equiv 19 \\ (mod 26)$. To znači da $a \\cdot 0 + b \\equiv b \\equiv 19 \\ (mod 26)$. Ispitujemo za sve moguće vrijednosti $a$ izlaze funkcije `d`."
   ]
  },
  {
   "cell_type": "code",
   "execution_count": 13,
   "id": "f9ad5e6d",
   "metadata": {},
   "outputs": [
    {
     "name": "stdout",
     "output_type": "stream",
     "text": [
      "a=1 : OLKFTSUCLSKJUJMXSPSZAMYOS\n",
      "a=3 : WVMTPGYSVGMDYDEZGFGRAEIWG\n",
      "a=5 : IXCBJOEQXOCHEHSPODOFASKIO\n",
      "a=7 : CJUXZKOEJKUFOFYHKRKLAYWCK\n",
      "a=9 : QHEPFCIGHCEBIBKRCTCXAKUQC\n",
      "a=11 : GBIRXEQMBEIPQPUVEZEHAUOGE\n",
      "a=15 : UZSJDWKOZWSLKLGFWBWTAGMUW\n",
      "a=17 : KTWLVYSUTYWZSZQJYHYDAQGKY\n",
      "a=19 : YRGDBQMWRQGVMVCTQJQPACEYQ\n",
      "a=21 : SDYZRMWKDMYTWTILMXMVAIQSM\n",
      "a=23 : EFOHLUCIFUOXCXWBUVUJAWSEU\n",
      "a=25 : MPQVHIGYPIQRGRODILIBAOCMI\n"
     ]
    }
   ],
   "source": [
    "for a in inverse.keys() :\n",
    "    print(f\"a={a} : {d(a,19,komad)}\")"
   ]
  },
  {
   "cell_type": "markdown",
   "id": "e46b0402",
   "metadata": {},
   "source": [
    "Niti jedan rezultat nema smisla pa odbacujemo mogućnost $b \\equiv 19$. <br>\n",
    "Iduća pretpostavka je A $\\mapsto$ B, odnosno $b \\equiv 3 \\ (mod 26)$."
   ]
  },
  {
   "cell_type": "code",
   "execution_count": 14,
   "id": "aba92bf1",
   "metadata": {},
   "outputs": [
    {
     "name": "stdout",
     "output_type": "stream",
     "text": [
      "a=1 : EBAVJIKSBIAZKZCNIFIPQCOEI\n",
      "a=3 : KJAHDUMGJUARMRSNUTUFOSWKU\n",
      "a=5 : GVAZHMCOVMAFCFQNMBMDYQIGM\n",
      "a=7 : IPADFQUKPQALULENQXQRGECIQ\n",
      "a=9 : MDALBYECDYAXEXGNYPYTWGQMY\n",
      "a=11 : YTAJPWIETWAHIHMNWRWZSMGYW\n",
      "a=15 : CHARLESWHEATSTONEJEBIOUCE\n",
      "a=17 : OXAPZCWYXCADWDUNCLCHEUKOC\n",
      "a=19 : SLAXVKGQLKAPGPWNKDKJUWYSK\n",
      "a=21 : UFABTOYMFOAVYVKNOZOXCKSUO\n",
      "a=23 : QRATXGOURGAJOJINGHGVMIEQG\n",
      "a=25 : WZAFRSQIZSABQBYNSVSLKYMWS\n"
     ]
    }
   ],
   "source": [
    "for a in inverse.keys() :\n",
    "    print(f\"a={a} : {d(a,3,komad)}\")"
   ]
  },
  {
   "cell_type": "markdown",
   "id": "37f16fae",
   "metadata": {},
   "source": [
    "Vidimo da za par **(15, 3) = K** otvoreni tekst ima smisla. Dekriptirajmo cijeli šifrat."
   ]
  },
  {
   "cell_type": "code",
   "execution_count": 15,
   "id": "13f8c51a",
   "metadata": {},
   "outputs": [
    {
     "data": {
      "text/plain": [
       "'CHARLESWHEATSTONEJEBIOUCENJAKIZUZETNOPLODNEMASTEIZUMIOJESTROJZASIFRIRANJEKOJIJEKORISTIODVAALFABETARAZLICITIHDULJINASVOJPRONALAZAKJEIZLOZIONASVJETSKOJIZLOZBIUPARIZU'"
      ]
     },
     "execution_count": 15,
     "metadata": {},
     "output_type": "execute_result"
    }
   ],
   "source": [
    "d(15,3,sifrat)"
   ]
  },
  {
   "cell_type": "markdown",
   "id": "87a3fa79",
   "metadata": {},
   "source": [
    "**CHARLES WHEATSTONE JE BIO UČENJAK IZUZETNO PLODNE MAŠTE. IZUMIO JE STROJ ZA ŠIFRIRANJE KOJI JE KORISTIO DVA ALFABETA RAZLIČITIH DULJINA. SVOJ PRONALAZAK JE IZLOŽIO NA SVJETSKOJ IZLOŽBI U PARIZU.**"
   ]
  },
  {
   "cell_type": "markdown",
   "id": "ce1a7e1f",
   "metadata": {},
   "source": [
    "## Zadatak 3"
   ]
  },
  {
   "cell_type": "markdown",
   "id": "011f9ff5",
   "metadata": {},
   "source": [
    "Isto kao u prethodnom zadatku uređujemo šifrat da bude pogodan za analizu."
   ]
  },
  {
   "cell_type": "code",
   "execution_count": 16,
   "id": "259a10a8",
   "metadata": {},
   "outputs": [
    {
     "data": {
      "text/plain": [
       "'LZNRVRDFTKXJGVRVFRCHATKTNRHRXTFZHRZKKZWTSZFRZGCAXZAGZSTKRITHRSTVFRCHANAUROJFOZGTLTOJXRITNZAUNTGZJKALRKTITKZVRAYHRBAUNTGTWRNRGJGRDFRFTKRCTOZWTSZFRZGKORBALRIYZVFRCHRFTKOZISTWTLNOTACFROTHZNOZ'"
      ]
     },
     "execution_count": 16,
     "metadata": {},
     "output_type": "execute_result"
    }
   ],
   "source": [
    "sifrat = '''LZNRV RDFTK XJGVR VFRCH ATKTN RHRXT FZHRZ KKZWT\n",
    "SZFRZ GCAXZ AGZST KRITH RSTVF RCHAN AUROJ FOZGT\n",
    "LTOJX RITNZ AUNTG ZJKAL RKTIT KZVRA YHRBA UNTGT\n",
    "WRNRG JGRDF RFTKR CTOZW TSZFR ZGKOR BALRI YZVFR\n",
    "CHRFT KOZIS TWTLN OTACF ROTHZ NOZ'''\n",
    "\n",
    "(sifrat := sifrat.replace(\" \", \"\").replace(\"\\n\", \"\"))"
   ]
  },
  {
   "cell_type": "markdown",
   "id": "b61960c1",
   "metadata": {},
   "source": [
    "Prikazujemo frekvencije slova i bigrama u šifratu."
   ]
  },
  {
   "cell_type": "code",
   "execution_count": 17,
   "id": "abdaa6be",
   "metadata": {},
   "outputs": [
    {
     "data": {
      "text/plain": [
       "<BarContainer object of 22 artists>"
      ]
     },
     "execution_count": 17,
     "metadata": {},
     "output_type": "execute_result"
    },
    {
     "data": {
      "image/png": "[encoded data removed]",
      "text/plain": [
       "<Figure size 640x480 with 1 Axes>"
      ]
     },
     "metadata": {},
     "output_type": "display_data"
    }
   ],
   "source": [
    "frekvencija = {}\n",
    "\n",
    "for c in sifrat :\n",
    "    try : frekvencija[c] += 1\n",
    "    except KeyError : frekvencija[c] = 1\n",
    "        \n",
    "frekvencija = {k: v for k, v in sorted(frekvencija.items(), key=lambda item: item[1])}\n",
    "plt.bar(frekvencija.keys(), frekvencija.values())"
   ]
  },
  {
   "cell_type": "code",
   "execution_count": 18,
   "id": "0e2550b0",
   "metadata": {},
   "outputs": [
    {
     "data": {
      "text/plain": [
       "<BarContainer object of 52 artists>"
      ]
     },
     "execution_count": 18,
     "metadata": {},
     "output_type": "execute_result"
    },
    {
     "data": {
      "image/png": "[encoded data removed]",
      "text/plain": [
       "<Figure size 1700x600 with 1 Axes>"
      ]
     },
     "metadata": {},
     "output_type": "display_data"
    }
   ],
   "source": [
    "frekvencija_b = {}\n",
    "\n",
    "for i in range(0,len(sifrat)-1) :\n",
    "    try : frekvencija_b[sifrat[i:i+2]] += 1\n",
    "    except KeyError : frekvencija_b[sifrat[i:i+2]] = 1\n",
    "        \n",
    "frekvencija_b = {k : v for k, v in frekvencija_b.items() if v > 1}\n",
    "frekvencija_b = {k: v for k, v in sorted(frekvencija_b.items(), key=lambda item: item[1])}\n",
    "plt.figure(figsize=(17,6))\n",
    "plt.bar(frekvencija_b.keys(), frekvencija_b.values())"
   ]
  },
  {
   "cell_type": "markdown",
   "id": "133f21c9",
   "metadata": {},
   "source": [
    "Pronađimo slova koja se ne pojavljuju u šifratu."
   ]
  },
  {
   "cell_type": "code",
   "execution_count": 19,
   "id": "a4d8dab7",
   "metadata": {},
   "outputs": [
    {
     "name": "stdout",
     "output_type": "stream",
     "text": [
      "E M P Q "
     ]
    }
   ],
   "source": [
    "for c in indeks.keys() :\n",
    "    try : frekvencija[c]\n",
    "    except KeyError : print(c, end = \" \")"
   ]
  },
  {
   "cell_type": "markdown",
   "id": "b613417e",
   "metadata": {},
   "source": [
    "Funkcija `kljuc` ispisuje u jedan redak sva slova alfabeta, a ispod svakog slova njegov šifrat. Parametar funkcije je rječnik s nekim pretpostavkama na preslikavanje $e_K$."
   ]
  },
  {
   "cell_type": "code",
   "execution_count": 20,
   "id": "8bc374db",
   "metadata": {},
   "outputs": [],
   "source": [
    "def kljuc(f) :\n",
    "    \n",
    "    abc = indeks.keys()\n",
    "    for c in abc : print(c, end = \" \")\n",
    "    print(\"\")\n",
    "    \n",
    "    for c in abc :\n",
    "        try : print(f[c], end = \" \")\n",
    "        except KeyError : print(\"_\", end = \" \")"
   ]
  },
  {
   "cell_type": "markdown",
   "id": "fefeb810",
   "metadata": {},
   "source": [
    "Najprirodnije je uzeti da se NA preslikava u FR jer je najfrekventniji bigram. E, M, P, Q se ne pojavljuju u šifratu. Reči ćemo za sad da su to Q, W, X, Y u hrvatskom jeziku."
   ]
  },
  {
   "cell_type": "code",
   "execution_count": 21,
   "id": "d6ea2df4",
   "metadata": {},
   "outputs": [
    {
     "name": "stdout",
     "output_type": "stream",
     "text": [
      "A B C D E F G H I J K L M N O P Q R S T U V W X Y Z \n",
      "R _ _ _ _ _ _ _ _ _ _ _ _ F _ _ E _ _ _ _ _ M P Q _ "
     ]
    }
   ],
   "source": [
    "funkcija = {\n",
    "    # \n",
    "    \"N\" : \"F\",\n",
    "    \"A\" : \"R\",\n",
    "    #\n",
    "    \"Q\" : \"E\",\n",
    "    \"W\" : \"M\",\n",
    "    \"X\" : \"P\",\n",
    "    \"Y\" : \"Q\"\n",
    "}\n",
    "    \n",
    "kljuc(funkcija)"
   ]
  },
  {
   "cell_type": "markdown",
   "id": "c1f0b3b6",
   "metadata": {},
   "source": [
    "Ne može se A preslikavati u R jer tada nema slike od Z. Pretpostavljamo da je $A \\mapsto T$ jer je drugo najfrekventnije slovo u šifratu. Logično je pretpostaviti da $AN \\mapsto TK$ jer je AN jedini od najčešćih bigrama u hrv. jeziku. Pretpostavimo da $JE \\mapsto FR$."
   ]
  },
  {
   "cell_type": "code",
   "execution_count": 22,
   "id": "536f89c7",
   "metadata": {},
   "outputs": [
    {
     "name": "stdout",
     "output_type": "stream",
     "text": [
      "A B C D E F G H I J K L M N O P Q R S T U V W X Y Z \n",
      "T _ _ _ R _ _ _ z F _ _ _ K z _ E _ _ _ _ _ M P Q _ "
     ]
    }
   ],
   "source": [
    "funkcija = {\n",
    "    #\n",
    "    \"N\" : \"K\",\n",
    "    \"A\" : \"T\",\n",
    "    #\n",
    "    \"J\" : \"F\",\n",
    "    \"E\" : \"R\",\n",
    "    #\n",
    "    \"I\" : \"z\",\n",
    "    \"O\" : \"z\",\n",
    "    #\n",
    "    \"Q\" : \"E\",\n",
    "    \"W\" : \"M\",\n",
    "    \"X\" : \"P\",\n",
    "    \"Y\" : \"Q\"\n",
    "}\n",
    "    \n",
    "kljuc(funkcija)"
   ]
  },
  {
   "cell_type": "markdown",
   "id": "80ba1a8a",
   "metadata": {},
   "source": [
    "Z je treće najfrekventnije slovo u šifratu pa bi trebalo biti slika ili od I ili od O, ali teško da postoje takve riječi u hrv. jeziku. Slično bi dobili za $JE \\mapsto HR$. Probajmo $JE \\mapsto OZ$. Uz pretpostavku da se WXY ne javljaju u ključnoj riječi, stavimo ih između T i Z. To još povlači da se U i V moraju javiti u k.r. Znači da bi R mogla biti slika od I ili O, ali KR se isto tako rijetko javlja na kraju hrvatskih riječi pa uzimamo da je slika od I."
   ]
  },
  {
   "cell_type": "code",
   "execution_count": 23,
   "id": "26181bd4",
   "metadata": {},
   "outputs": [
    {
     "name": "stdout",
     "output_type": "stream",
     "text": [
      "A B C D E F G H I J K L M N O P Q R S T U V W X Y Z \n",
      "T W X Y Z _ _ _ R O _ _ _ K _ _ E _ _ _ _ _ M P Q _ "
     ]
    }
   ],
   "source": [
    "funkcija = {\n",
    "    #\n",
    "    \"N\" : \"K\",\n",
    "    \"A\" : \"T\",\n",
    "    #\n",
    "    \"J\" : \"O\",\n",
    "    \"E\" : \"Z\",\n",
    "    #\n",
    "    \"I\" : \"R\",\n",
    "    #\n",
    "    \"Q\" : \"E\",\n",
    "    \"W\" : \"M\",\n",
    "    \"X\" : \"P\",\n",
    "    \"Y\" : \"Q\",\n",
    "    # \n",
    "    \"B\" : \"W\",\n",
    "    \"C\" : \"X\",\n",
    "    \"D\" : \"Y\"\n",
    "}\n",
    "    \n",
    "kljuc(funkcija)"
   ]
  },
  {
   "cell_type": "markdown",
   "id": "87adc7cc",
   "metadata": {},
   "source": [
    "Između Q i T moraju doći R i S, ali je R već iskorišteno."
   ]
  },
  {
   "cell_type": "code",
   "execution_count": 24,
   "id": "71f912ad",
   "metadata": {},
   "outputs": [
    {
     "name": "stdout",
     "output_type": "stream",
     "text": [
      "A B C D E F G H I J K L M N O P Q R S T U V W X Y Z \n",
      "T W X Y Z _ _ _ R O _ _ _ K _ _ E _ _ _ _ _ M P Q S "
     ]
    }
   ],
   "source": [
    "funkcija.update({\"Z\" : \"S\"})\n",
    "kljuc(funkcija)"
   ]
  },
  {
   "cell_type": "markdown",
   "id": "e2c4e0f5",
   "metadata": {},
   "source": [
    "Isprobajmo s trenutnim znanjem otkriti otvoreni tekst. Možda uspijemo popuniti neke rupe. `parc_d` dešifrira znakove za koje postoji informacija iz rječnika `dic`, a ostale mijenja s `_`."
   ]
  },
  {
   "cell_type": "code",
   "execution_count": 25,
   "id": "4375857e",
   "metadata": {},
   "outputs": [],
   "source": [
    "def key(dic, value) :\n",
    "    for item in dic.items() :\n",
    "        if item[1] == value : return item[0]\n",
    "    return \"_\"\n",
    "\n",
    "def parc_d(txt, dic) :\n",
    "    \n",
    "    for c in txt :\n",
    "        print(key(dic, c), end=\"\")"
   ]
  },
  {
   "cell_type": "markdown",
   "id": "1a5ddbe3",
   "metadata": {},
   "source": [
    "`prikazi` koristi `parc_d` i paralelno slaže šifrat i otvoreni tekst."
   ]
  },
  {
   "cell_type": "code",
   "execution_count": 26,
   "id": "3068a572",
   "metadata": {},
   "outputs": [],
   "source": [
    "def prikazi(funk) :\n",
    "    print(sifrat[:95])\n",
    "    parc_d(sifrat[:95], funk)\n",
    "    print(\"\\n\")\n",
    "    print(sifrat[95:])\n",
    "    parc_d(sifrat[95:], funk)"
   ]
  },
  {
   "cell_type": "code",
   "execution_count": 27,
   "id": "f8c7adec",
   "metadata": {},
   "outputs": [
    {
     "name": "stdout",
     "output_type": "stream",
     "text": [
      "LZNRVRDFTKXJGVRVFRCHATKTNRHRXTFZHRZKKZWTSZFRZGCAXZAGZSTKRITHRSTVFRCHANAUROJFOZGTLTOJXRITNZAUNTG\n",
      "_E_I_I__ANC___I__I___ANA_I_ICA_E_IENNEBAZE_IE___CE__EZANI_A_IZA__I______IJ__JE_A_AJ_CI_A_E___A_\n",
      "\n",
      "ZJKALRKTITKZVRAYHRBAUNTGTWRNRGJGRDFRFTKRCTOZWTSZFRZGKORBALRIYZVFRCHRFTKOZISTWTLNOTACFROTHZNOZ\n",
      "E_N__INA_ANE_I_D_I____A_ABI_I___I__I_ANI_AJEBAZE_IE_NJI___I_DE__I__I_ANJE_ZABA__JA___IJA_E_JE"
     ]
    }
   ],
   "source": [
    "prikazi(funkcija)"
   ]
  },
  {
   "cell_type": "markdown",
   "id": "89ef1aa4",
   "metadata": {},
   "source": [
    "Analizom teksta uočavamo gdje bi mogla doći slova L, T, R zbog riječi ANA(L)I(T)ICA(R). Nadopunom preslikavanja dobivamo nove hintove i uviđamo ostale korake 2., 3., 4."
   ]
  },
  {
   "cell_type": "code",
   "execution_count": 28,
   "id": "2680e5ab",
   "metadata": {},
   "outputs": [
    {
     "name": "stdout",
     "output_type": "stream",
     "text": [
      "LZNRVRDFTKXJGVRVFRCHATKTNRHRXTFZHRZKKZWTSZFRZGCAXZAGZSTKRITHRSTVFRCHANAUROJFOZGTLTOJXRITNZAUNTG\n",
      "VELIKIFRANCUSKIKRI_T_ANALITICARETIENNEBAZERIES__CE_SEZANI_ATIZAKRI_T_L__IJURJESAVAJUCI_ALE__LAS\n",
      "\n",
      "ZJKALRKTITKZVRAYHRBAUNTGTWRNRGJGRDFRFTKRCTOZWTSZFRZGKORBALRIYZVFRCHRFTKOZISTWTLNOTACFROTHZNOZ\n",
      "EUN_VINA_ANEKI_DTI___LASABILISUSIFRIRANI_AJEBAZERIESNJI__VI_DEKRI_TIRANJE_ZABAVLJA__RIJATELJE"
     ]
    }
   ],
   "source": [
    "novi = {\n",
    "    # 1.\n",
    "    \"L\" : \"N\",\n",
    "    \"T\" : \"H\",\n",
    "    \"R\" : \"F\",\n",
    "    # 2.\n",
    "    \"S\" : \"G\",\n",
    "    \"F\" : \"D\",\n",
    "    # 3.\n",
    "    \"V\" : \"L\",\n",
    "    \"U\" : \"J\",\n",
    "    # 4.\n",
    "    \"K\" : \"V\"\n",
    "}\n",
    "\n",
    "novi.update(funkcija)\n",
    "prikazi(novi)"
   ]
  },
  {
   "cell_type": "code",
   "execution_count": 29,
   "id": "ddb32807",
   "metadata": {},
   "outputs": [
    {
     "name": "stdout",
     "output_type": "stream",
     "text": [
      "A B C D E F G H I J K L M N O P Q R S T U V W X Y Z \n",
      "T W X Y Z D _ _ R O V N _ K _ _ E F G H J L M P Q S "
     ]
    }
   ],
   "source": [
    "kljuc(novi)"
   ]
  },
  {
   "cell_type": "markdown",
   "id": "d1c4278d",
   "metadata": {},
   "source": [
    "Vidimo da se radi o riječi D _ _ R O V N _ K ? ? i da sadrži sigurno slova I, U. Slutimo da je Dubrovnik."
   ]
  },
  {
   "cell_type": "code",
   "execution_count": 32,
   "id": "7d959e2e",
   "metadata": {},
   "outputs": [
    {
     "name": "stdout",
     "output_type": "stream",
     "text": [
      "A B C D E F G H I J K L M N O P Q R S T U V W X Y Z \n",
      "T W X Y Z D U B R O V N I K A C E F G H J L M P Q S "
     ]
    }
   ],
   "source": [
    "novi.update({\n",
    "    \"G\" : \"U\",\n",
    "    \"H\" : \"B\",\n",
    "    \"M\" : \"I\",\n",
    "    \"O\" : \"A\",\n",
    "    \"P\" : \"C\",\n",
    "    \"Z\" : \"S\"\n",
    "})\n",
    "\n",
    "kljuc(novi)"
   ]
  },
  {
   "cell_type": "markdown",
   "id": "0727b46d",
   "metadata": {},
   "source": [
    "Pogledajmo sada tekst dobiven inverzom preslikavanja `novi`."
   ]
  },
  {
   "cell_type": "code",
   "execution_count": 33,
   "id": "fd4f14d8",
   "metadata": {},
   "outputs": [
    {
     "name": "stdout",
     "output_type": "stream",
     "text": [
      "LZNRVRDFTKXJGVRVFRCHATKTNRHRXTFZHRZKKZWTSZFRZGCAXZAGZSTKRITHRSTVFRCHANAUROJFOZGTLTOJXRITNZAUNTG\n",
      "VELIKIFRANCUSKIKRIPTOANALITICARETIENNEBAZERIESPOCEOSEZANIMATIZAKRIPTOLOGIJURJESAVAJUCIMALEOGLAS\n",
      "\n",
      "ZJKALRKTITKZVRAYHRBAUNTGTWRNRGJGRDFRFTKRCTOZWTSZFRZGKORBALRIYZVFRCHRFTKOZISTWTLNOTACFROTHZNOZ\n",
      "EUNOVINAMANEKIODTIHOGLASABILISUSIFRIRANIPAJEBAZERIESNJIHOVIMDEKRIPTIRANJEMZABAVLJAOPRIJATELJE"
     ]
    }
   ],
   "source": [
    "prikazi(novi)"
   ]
  },
  {
   "cell_type": "markdown",
   "id": "372a9099",
   "metadata": {},
   "source": [
    "Tekst ima smisla. Dakle **K = (DUBROVNIK, 5)**."
   ]
  }
 ],
 "metadata": {
  "kernelspec": {
   "display_name": "Python 3 (ipykernel)",
   "language": "python",
   "name": "python3"
  },
  "language_info": {
   "codemirror_mode": {
    "name": "ipython",
    "version": 3
   },
   "file_extension": ".py",
   "mimetype": "text/x-python",
   "name": "python",
   "nbconvert_exporter": "python",
   "pygments_lexer": "ipython3",
   "version": "3.9.16"
  }
 },
 "nbformat": 4,
 "nbformat_minor": 5
}
