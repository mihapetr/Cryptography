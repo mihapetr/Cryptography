{
 "cells": [
  {
   "cell_type": "markdown",
   "id": "1e655c2a",
   "metadata": {},
   "source": [
    "<center><h1> Kriptografija i sigurnost mreža </h1>\n",
    "<h1>Zadaća 2</h1>\n",
    "<h2>Mihael Petrinjak</h2></center>"
   ]
  },
  {
   "cell_type": "code",
   "execution_count": 17,
   "id": "732091c8",
   "metadata": {},
   "outputs": [],
   "source": [
    "import numpy as np\n",
    "import pandas as pd"
   ]
  },
  {
   "cell_type": "markdown",
   "id": "0c39b75d",
   "metadata": {},
   "source": [
    "## Zadatak 1"
   ]
  },
  {
   "cell_type": "markdown",
   "id": "918a2a74",
   "metadata": {},
   "source": [
    "Uredimo podatke za obradu."
   ]
  },
  {
   "cell_type": "code",
   "execution_count": 164,
   "id": "b25197c9",
   "metadata": {},
   "outputs": [
    {
     "name": "stdout",
     "output_type": "stream",
     "text": [
      "YCGRCAAZHWYMPHQEYEDGMMBARSLITGASROKKGWOXULDUHNKDTYQMVTXFZRPECWYEVOGIJETAOOGXPEKDZVRABSMXGDDBHNKLDATNKKPHDHXUVSNQKTGWIITAHJDYIIAWRXAUDLESXDJ\n"
     ]
    }
   ],
   "source": [
    "sifrat = '''YCGRC AAZHW YMPHQ EYEDG MMBAR SLITG ASROK KGWOX\n",
    "ULDUH NKDTY QMVTX FZRPE CWYEV OGIJE TAOOG XPEKD\n",
    "ZVRAB SMXGD DBHNK LDATN KKPHD HXUVS NQKTG WIITA\n",
    "HJDYI IAWRX AUDLE SXDJ'''\n",
    "\n",
    "sifrat = sifrat.replace(\" \", \"\").replace(\"\\n\", \"\")\n",
    "print(sifrat)"
   ]
  },
  {
   "cell_type": "markdown",
   "id": "7c7ca2bb",
   "metadata": {},
   "source": [
    "Provjerimo pojavljuju li se neki trinomi više puta u šifratu."
   ]
  },
  {
   "cell_type": "code",
   "execution_count": 19,
   "id": "be875b53",
   "metadata": {},
   "outputs": [],
   "source": [
    "trinomi = {}\n",
    "for i in range(len(sifrat) - 2) :\n",
    "    trinom = sifrat[i:i+3]\n",
    "    try : trinomi[trinom] += 1\n",
    "    except KeyError : trinomi[trinom] = 1"
   ]
  },
  {
   "cell_type": "code",
   "execution_count": 20,
   "id": "8356ff88",
   "metadata": {},
   "outputs": [
    {
     "data": {
      "text/plain": [
       "{'HNK': 2}"
      ]
     },
     "execution_count": 20,
     "metadata": {},
     "output_type": "execute_result"
    }
   ],
   "source": [
    "{k:v for k,v in trinomi.items() if v>1}"
   ]
  },
  {
   "cell_type": "markdown",
   "id": "aaa57109",
   "metadata": {},
   "source": [
    "HNK se pojavljuje 2 puta. Tražimo udaljenost pozicija na kojima ppočinju."
   ]
  },
  {
   "cell_type": "code",
   "execution_count": 21,
   "id": "afeeaf51",
   "metadata": {},
   "outputs": [
    {
     "name": "stdout",
     "output_type": "stream",
     "text": [
      "44\n",
      "92\n"
     ]
    }
   ],
   "source": [
    "for i in range(len(sifrat) - 2) :\n",
    "    if sifrat[i:i+3] == \"HNK\" : print(i)"
   ]
  },
  {
   "cell_type": "code",
   "execution_count": 22,
   "id": "7816f0d8",
   "metadata": {},
   "outputs": [
    {
     "data": {
      "text/plain": [
       "48"
      ]
     },
     "execution_count": 22,
     "metadata": {},
     "output_type": "execute_result"
    }
   ],
   "source": [
    "92 - 44"
   ]
  },
  {
   "cell_type": "markdown",
   "id": "cb1af64d",
   "metadata": {},
   "source": [
    "Prema Kasiskijevom testu bismo trebali očekivati neki $m$ koji dijeli $48$."
   ]
  },
  {
   "cell_type": "markdown",
   "id": "9a5e4011",
   "metadata": {},
   "source": [
    "Definiramo funkciju koja računa frekvenciju pojedinih slova u danom tekstu."
   ]
  },
  {
   "cell_type": "code",
   "execution_count": 23,
   "id": "87908f7d",
   "metadata": {},
   "outputs": [],
   "source": [
    "def frekvencije(x) :\n",
    "    f = {}\n",
    "    for c in x :\n",
    "        try : f[c] += 1\n",
    "        except KeyError : f[c] = 1\n",
    "    return f"
   ]
  },
  {
   "cell_type": "code",
   "execution_count": 24,
   "id": "8e66252d",
   "metadata": {},
   "outputs": [
    {
     "name": "stdout",
     "output_type": "stream",
     "text": [
      "{'Y': 6, 'C': 3, 'G': 8, 'R': 6, 'A': 10, 'Z': 3, 'H': 7, 'W': 5, 'M': 5, 'P': 4, 'Q': 3, 'E': 7, 'D': 11, 'B': 3, 'S': 5, 'L': 4, 'I': 6, 'T': 7, 'O': 5, 'K': 8, 'X': 7, 'U': 4, 'N': 4, 'V': 4, 'F': 1, 'J': 3}\n"
     ]
    }
   ],
   "source": [
    "print(f := frekvencije(sifrat))"
   ]
  },
  {
   "cell_type": "markdown",
   "id": "a30744bb",
   "metadata": {},
   "source": [
    "Definiramo funkciju koja računa *indeks koincidencije* u danom tekstu."
   ]
  },
  {
   "cell_type": "code",
   "execution_count": 25,
   "id": "3be2bf23",
   "metadata": {},
   "outputs": [],
   "source": [
    "def Ic(x) :\n",
    "    f = frekvencije(x)\n",
    "    n = len(x)\n",
    "    Sum = 0\n",
    "    for c in f.keys() :\n",
    "        Sum += f[c]*(f[c] - 1)\n",
    "    Sum /= n*(n-1)\n",
    "    return Sum"
   ]
  },
  {
   "cell_type": "code",
   "execution_count": 26,
   "id": "aaf06da0",
   "metadata": {},
   "outputs": [
    {
     "data": {
      "text/plain": [
       "0.03857783338546554"
      ]
     },
     "execution_count": 26,
     "metadata": {},
     "output_type": "execute_result"
    }
   ],
   "source": [
    "Ic(sifrat)"
   ]
  },
  {
   "cell_type": "markdown",
   "id": "d961138f",
   "metadata": {},
   "source": [
    "Vidimo da je $I_c(\\text{sifrat}) \\approx 0.038$ što je očekivano za nasumičan niz slova. <br>\n",
    "Istražimo sada ponašanje funkcije na podnizovima šifrata različitih duljina. Trebamo funkciju za podjelu šifrata na opisan način."
   ]
  },
  {
   "cell_type": "code",
   "execution_count": 27,
   "id": "816be005",
   "metadata": {},
   "outputs": [],
   "source": [
    "def podijeli(txt, m) :\n",
    "    blokovi = []\n",
    "    for start in range(0, m) :\n",
    "        komad = \"\"\n",
    "        for i in range(start, len(txt), m) :\n",
    "            komad += txt[i]\n",
    "        blokovi.append(komad)\n",
    "    return blokovi"
   ]
  },
  {
   "cell_type": "markdown",
   "id": "12fddea4",
   "metadata": {},
   "source": [
    "Za $m = 10$ na primjer dobivamo podnizove:"
   ]
  },
  {
   "cell_type": "code",
   "execution_count": 28,
   "id": "449e215b",
   "metadata": {},
   "outputs": [
    {
     "data": {
      "text/plain": [
       "['YYMAUQCTZDKNHA',\n",
       " 'CMMSLMWAVBKQJU',\n",
       " 'GPBRDVYORHPKDD',\n",
       " 'RHAOUTEOANHTYL',\n",
       " 'CQRKHXVGBKDGIE',\n",
       " 'AESKNFOXSLHWIS',\n",
       " 'AYLGKZGPMDXIAX',\n",
       " 'ZEIWDRIEXAUIWD',\n",
       " 'HDTOTPJKGTVTRJ',\n",
       " 'WGGXYEEDDNSAX']"
      ]
     },
     "execution_count": 28,
     "metadata": {},
     "output_type": "execute_result"
    }
   ],
   "source": [
    "podijeli(sifrat, 10)"
   ]
  },
  {
   "cell_type": "markdown",
   "id": "a835672e",
   "metadata": {},
   "source": [
    "Iduća funkcija računa $I_c$ na dobivenim blokovima."
   ]
  },
  {
   "cell_type": "code",
   "execution_count": 29,
   "id": "84cfdda4",
   "metadata": {},
   "outputs": [],
   "source": [
    "def indeksi(blokovi) :\n",
    "    i = []\n",
    "    for blok in blokovi :\n",
    "        i.append(Ic(blok))\n",
    "    return i"
   ]
  },
  {
   "cell_type": "code",
   "execution_count": 30,
   "id": "6c1983ac",
   "metadata": {},
   "outputs": [
    {
     "name": "stdout",
     "output_type": "stream",
     "text": [
      "1 : 0.0386, \n",
      "2 : 0.0435, 0.0388, \n",
      "3 : 0.0389, 0.0367, 0.0464, \n",
      "4 : 0.0387, 0.0319, 0.0521, 0.0357, \n",
      "5 : 0.0265, 0.0344, 0.0503, 0.0635, 0.0456, \n",
      "6 : 0.0616, 0.0514, 0.0356, 0.0593, 0.0672, 0.0791, \n",
      "7 : 0.0474, 0.0263, 0.0263, 0.0421, 0.0263, 0.0368, 0.0468, \n",
      "8 : 0.0458, 0.0261, 0.0784, 0.0368, 0.0368, 0.0368, 0.0515, 0.0515, \n",
      "9 : 0.0333, 0.0250, 0.0583, 0.0417, 0.0381, 0.0476, 0.0381, 0.0095, 0.0381, \n",
      "10 : 0.0220, 0.0330, 0.0549, 0.0440, 0.0220, 0.0330, 0.0330, 0.0659, 0.0769, 0.0513, \n",
      "11 : 0.0256, 0.0513, 0.1026, 0.0256, 0.0385, 0.0641, 0.0256, 0.0000, 0.0152, 0.0758, 0.0303, \n"
     ]
    }
   ],
   "source": [
    "for m in range(1, 12):\n",
    "    print(m, end=\" : \")\n",
    "    for indeks in indeksi(podijeli(sifrat, m)) :\n",
    "        print(f\"{indeks:.4f}\", end=\", \")\n",
    "    print()"
   ]
  },
  {
   "cell_type": "markdown",
   "id": "e932b2bf",
   "metadata": {},
   "source": [
    "Za $m = 6$ indeksi koincidencije su blizu vrijednosti $0.064$ što je očekivano za tekst pisan na hrvatskom jeziku. Možemo pretpostaviti da je **6 duljina ključne riječi**. To je u skladu s Kasiskijevim testom. Dakle dobivano ovakve blokove:"
   ]
  },
  {
   "cell_type": "code",
   "execution_count": 31,
   "id": "be8340a8",
   "metadata": {},
   "outputs": [
    {
     "data": {
      "text/plain": [
       "['YAPDRAGDTXCGOKBDDPVGHADJ',\n",
       " 'CZHGSSWUYFWIODSBAHSWJWL',\n",
       " 'GHQMLROHQZYJGZMHTDNIDRE',\n",
       " 'RWEMIOXNMREEXVXNNHQIYXS',\n",
       " 'CYYBTKUKVPVTPRGKKXKTIAX',\n",
       " 'AMEAGKLDTEOAEADLKUTAIUD']"
      ]
     },
     "execution_count": 31,
     "metadata": {},
     "output_type": "execute_result"
    }
   ],
   "source": [
    "(blokovi := podijeli(sifrat, 6))"
   ]
  },
  {
   "cell_type": "markdown",
   "id": "4973235c",
   "metadata": {},
   "source": [
    "Pišemo funkcije za šifriranje teksta Cezarovom šifrom."
   ]
  },
  {
   "cell_type": "code",
   "execution_count": 32,
   "id": "0225fad7",
   "metadata": {},
   "outputs": [],
   "source": [
    "def pomak(c, k) :\n",
    "    k = (k + 26) % 26\n",
    "    return chr(65 + (ord(c) + k - 65) % 26)\n",
    "\n",
    "def pomakni(txt, k) :\n",
    "    rez = \"\"\n",
    "    for c in txt :\n",
    "        rez += pomak(c, k)\n",
    "    return rez"
   ]
  },
  {
   "cell_type": "markdown",
   "id": "168eeb71",
   "metadata": {},
   "source": [
    "### Prva metoda (neuspjeh)"
   ]
  },
  {
   "cell_type": "markdown",
   "id": "aaf6a797",
   "metadata": {},
   "source": [
    "Treba nam funkcija za računanje međusobnih indeksa koincidencije dva bloka."
   ]
  },
  {
   "cell_type": "code",
   "execution_count": 40,
   "id": "b26a4431",
   "metadata": {},
   "outputs": [],
   "source": [
    "def MIc(z1, z2) :\n",
    "    f1 = frekvencije(z1)\n",
    "    f2 = frekvencije(z2)\n",
    "    n1 = len(z1)\n",
    "    n2 = len(z2)\n",
    "    Sum = 0\n",
    "    for c in \"ABCDEFGHIJKLMNOPQRSTUVWXYZ\" :\n",
    "        try : Sum += f1[c]*f2[c]\n",
    "        except KeyError : pass\n",
    "    Sum /= n1 * n2\n",
    "    return Sum"
   ]
  },
  {
   "cell_type": "markdown",
   "id": "ef57480b",
   "metadata": {},
   "source": [
    "Funkcija `mics` uzima dva indeksa blokova i računa vektor međusobnih indeksa koincidencije za te blokove za svaki od mogućih pomaka drugog bloka."
   ]
  },
  {
   "cell_type": "code",
   "execution_count": 56,
   "id": "40915db6",
   "metadata": {},
   "outputs": [],
   "source": [
    "def mics(i, j) :\n",
    "    rez = []\n",
    "    for k in range(0, -26, -1) :\n",
    "        mic = MIc(blokovi[i], pomakni(blokovi[j], k))\n",
    "        if mic < 0.044 : mic = 0\n",
    "        rez.append(mic)\n",
    "    return rez"
   ]
  },
  {
   "cell_type": "markdown",
   "id": "2c1426ab",
   "metadata": {},
   "source": [
    "Funkcija `Dist` uzima indeks bloka $i$ i generira tablicu čiji stupci za $j$ t.d. $6 > j > i$ sadrže vrijednosti funkcije `mics(i,j)` ako su veće od $0.44$."
   ]
  },
  {
   "cell_type": "code",
   "execution_count": 57,
   "id": "8f6549fb",
   "metadata": {},
   "outputs": [],
   "source": [
    "def Dist(i) :\n",
    "    df = pd.DataFrame({k : mics(i,k) for k in range(i+1,6)} )\n",
    "    m = df > 0.044\n",
    "    return df.where(m)"
   ]
  },
  {
   "cell_type": "markdown",
   "id": "eb6e7bea",
   "metadata": {},
   "source": [
    "Pokušajmo sada izvući odnose $k_i$-ova iz ključa. Gledamo stupce u kojima je večina vrijednosti značajno manja od, a jedna ili dvije blizu $0.064$."
   ]
  },
  {
   "cell_type": "code",
   "execution_count": 189,
   "id": "3d4efeca",
   "metadata": {},
   "outputs": [
    {
     "data": {
      "text/html": [
       "<div>\n",
       "<style scoped>\n",
       "    .dataframe tbody tr th:only-of-type {\n",
       "        vertical-align: middle;\n",
       "    }\n",
       "\n",
       "    .dataframe tbody tr th {\n",
       "        vertical-align: top;\n",
       "    }\n",
       "\n",
       "    .dataframe thead th {\n",
       "        text-align: right;\n",
       "    }\n",
       "</style>\n",
       "<table border=\"1\" class=\"dataframe\">\n",
       "  <thead>\n",
       "    <tr style=\"text-align: right;\">\n",
       "      <th></th>\n",
       "      <th>1</th>\n",
       "      <th>2</th>\n",
       "      <th>3</th>\n",
       "      <th>4</th>\n",
       "      <th>5</th>\n",
       "    </tr>\n",
       "  </thead>\n",
       "  <tbody>\n",
       "    <tr>\n",
       "      <th>0</th>\n",
       "      <td>NaN</td>\n",
       "      <td>0.045290</td>\n",
       "      <td>NaN</td>\n",
       "      <td>0.048913</td>\n",
       "      <td>0.068841</td>\n",
       "    </tr>\n",
       "    <tr>\n",
       "      <th>1</th>\n",
       "      <td>NaN</td>\n",
       "      <td>0.045290</td>\n",
       "      <td>0.045290</td>\n",
       "      <td>NaN</td>\n",
       "      <td>0.045290</td>\n",
       "    </tr>\n",
       "    <tr>\n",
       "      <th>2</th>\n",
       "      <td>NaN</td>\n",
       "      <td>NaN</td>\n",
       "      <td>NaN</td>\n",
       "      <td>NaN</td>\n",
       "      <td>NaN</td>\n",
       "    </tr>\n",
       "    <tr>\n",
       "      <th>3</th>\n",
       "      <td>0.050725</td>\n",
       "      <td>0.047101</td>\n",
       "      <td>NaN</td>\n",
       "      <td>NaN</td>\n",
       "      <td>0.048913</td>\n",
       "    </tr>\n",
       "    <tr>\n",
       "      <th>4</th>\n",
       "      <td>NaN</td>\n",
       "      <td>0.048913</td>\n",
       "      <td>NaN</td>\n",
       "      <td>0.050725</td>\n",
       "      <td>NaN</td>\n",
       "    </tr>\n",
       "    <tr>\n",
       "      <th>5</th>\n",
       "      <td>0.045290</td>\n",
       "      <td>NaN</td>\n",
       "      <td>NaN</td>\n",
       "      <td>NaN</td>\n",
       "      <td>0.050725</td>\n",
       "    </tr>\n",
       "    <tr>\n",
       "      <th>6</th>\n",
       "      <td>NaN</td>\n",
       "      <td>0.052536</td>\n",
       "      <td>NaN</td>\n",
       "      <td>NaN</td>\n",
       "      <td>NaN</td>\n",
       "    </tr>\n",
       "    <tr>\n",
       "      <th>7</th>\n",
       "      <td>NaN</td>\n",
       "      <td>NaN</td>\n",
       "      <td>0.045290</td>\n",
       "      <td>0.059783</td>\n",
       "      <td>NaN</td>\n",
       "    </tr>\n",
       "    <tr>\n",
       "      <th>8</th>\n",
       "      <td>0.045290</td>\n",
       "      <td>NaN</td>\n",
       "      <td>NaN</td>\n",
       "      <td>NaN</td>\n",
       "      <td>NaN</td>\n",
       "    </tr>\n",
       "    <tr>\n",
       "      <th>9</th>\n",
       "      <td>NaN</td>\n",
       "      <td>0.045290</td>\n",
       "      <td>NaN</td>\n",
       "      <td>NaN</td>\n",
       "      <td>NaN</td>\n",
       "    </tr>\n",
       "    <tr>\n",
       "      <th>10</th>\n",
       "      <td>NaN</td>\n",
       "      <td>0.050725</td>\n",
       "      <td>0.047101</td>\n",
       "      <td>NaN</td>\n",
       "      <td>NaN</td>\n",
       "    </tr>\n",
       "    <tr>\n",
       "      <th>11</th>\n",
       "      <td>NaN</td>\n",
       "      <td>NaN</td>\n",
       "      <td>NaN</td>\n",
       "      <td>NaN</td>\n",
       "      <td>0.052536</td>\n",
       "    </tr>\n",
       "    <tr>\n",
       "      <th>12</th>\n",
       "      <td>0.045290</td>\n",
       "      <td>NaN</td>\n",
       "      <td>NaN</td>\n",
       "      <td>NaN</td>\n",
       "      <td>NaN</td>\n",
       "    </tr>\n",
       "    <tr>\n",
       "      <th>13</th>\n",
       "      <td>NaN</td>\n",
       "      <td>NaN</td>\n",
       "      <td>0.045290</td>\n",
       "      <td>NaN</td>\n",
       "      <td>NaN</td>\n",
       "    </tr>\n",
       "    <tr>\n",
       "      <th>14</th>\n",
       "      <td>NaN</td>\n",
       "      <td>0.048913</td>\n",
       "      <td>NaN</td>\n",
       "      <td>NaN</td>\n",
       "      <td>NaN</td>\n",
       "    </tr>\n",
       "    <tr>\n",
       "      <th>15</th>\n",
       "      <td>0.052536</td>\n",
       "      <td>NaN</td>\n",
       "      <td>0.047101</td>\n",
       "      <td>NaN</td>\n",
       "      <td>NaN</td>\n",
       "    </tr>\n",
       "    <tr>\n",
       "      <th>16</th>\n",
       "      <td>0.045290</td>\n",
       "      <td>NaN</td>\n",
       "      <td>NaN</td>\n",
       "      <td>NaN</td>\n",
       "      <td>NaN</td>\n",
       "    </tr>\n",
       "    <tr>\n",
       "      <th>17</th>\n",
       "      <td>NaN</td>\n",
       "      <td>NaN</td>\n",
       "      <td>0.045290</td>\n",
       "      <td>0.056159</td>\n",
       "      <td>NaN</td>\n",
       "    </tr>\n",
       "    <tr>\n",
       "      <th>18</th>\n",
       "      <td>0.047101</td>\n",
       "      <td>NaN</td>\n",
       "      <td>NaN</td>\n",
       "      <td>0.045290</td>\n",
       "      <td>NaN</td>\n",
       "    </tr>\n",
       "    <tr>\n",
       "      <th>19</th>\n",
       "      <td>0.057971</td>\n",
       "      <td>NaN</td>\n",
       "      <td>NaN</td>\n",
       "      <td>NaN</td>\n",
       "      <td>NaN</td>\n",
       "    </tr>\n",
       "    <tr>\n",
       "      <th>20</th>\n",
       "      <td>NaN</td>\n",
       "      <td>NaN</td>\n",
       "      <td>0.059783</td>\n",
       "      <td>NaN</td>\n",
       "      <td>0.054348</td>\n",
       "    </tr>\n",
       "    <tr>\n",
       "      <th>21</th>\n",
       "      <td>NaN</td>\n",
       "      <td>NaN</td>\n",
       "      <td>NaN</td>\n",
       "      <td>0.063406</td>\n",
       "      <td>NaN</td>\n",
       "    </tr>\n",
       "    <tr>\n",
       "      <th>22</th>\n",
       "      <td>0.048913</td>\n",
       "      <td>NaN</td>\n",
       "      <td>NaN</td>\n",
       "      <td>NaN</td>\n",
       "      <td>NaN</td>\n",
       "    </tr>\n",
       "    <tr>\n",
       "      <th>23</th>\n",
       "      <td>NaN</td>\n",
       "      <td>NaN</td>\n",
       "      <td>0.045290</td>\n",
       "      <td>NaN</td>\n",
       "      <td>0.081522</td>\n",
       "    </tr>\n",
       "    <tr>\n",
       "      <th>24</th>\n",
       "      <td>NaN</td>\n",
       "      <td>NaN</td>\n",
       "      <td>0.048913</td>\n",
       "      <td>NaN</td>\n",
       "      <td>NaN</td>\n",
       "    </tr>\n",
       "    <tr>\n",
       "      <th>25</th>\n",
       "      <td>0.048913</td>\n",
       "      <td>NaN</td>\n",
       "      <td>NaN</td>\n",
       "      <td>NaN</td>\n",
       "      <td>NaN</td>\n",
       "    </tr>\n",
       "  </tbody>\n",
       "</table>\n",
       "</div>"
      ],
      "text/plain": [
       "           1         2         3         4         5\n",
       "0        NaN  0.045290       NaN  0.048913  0.068841\n",
       "1        NaN  0.045290  0.045290       NaN  0.045290\n",
       "2        NaN       NaN       NaN       NaN       NaN\n",
       "3   0.050725  0.047101       NaN       NaN  0.048913\n",
       "4        NaN  0.048913       NaN  0.050725       NaN\n",
       "5   0.045290       NaN       NaN       NaN  0.050725\n",
       "6        NaN  0.052536       NaN       NaN       NaN\n",
       "7        NaN       NaN  0.045290  0.059783       NaN\n",
       "8   0.045290       NaN       NaN       NaN       NaN\n",
       "9        NaN  0.045290       NaN       NaN       NaN\n",
       "10       NaN  0.050725  0.047101       NaN       NaN\n",
       "11       NaN       NaN       NaN       NaN  0.052536\n",
       "12  0.045290       NaN       NaN       NaN       NaN\n",
       "13       NaN       NaN  0.045290       NaN       NaN\n",
       "14       NaN  0.048913       NaN       NaN       NaN\n",
       "15  0.052536       NaN  0.047101       NaN       NaN\n",
       "16  0.045290       NaN       NaN       NaN       NaN\n",
       "17       NaN       NaN  0.045290  0.056159       NaN\n",
       "18  0.047101       NaN       NaN  0.045290       NaN\n",
       "19  0.057971       NaN       NaN       NaN       NaN\n",
       "20       NaN       NaN  0.059783       NaN  0.054348\n",
       "21       NaN       NaN       NaN  0.063406       NaN\n",
       "22  0.048913       NaN       NaN       NaN       NaN\n",
       "23       NaN       NaN  0.045290       NaN  0.081522\n",
       "24       NaN       NaN  0.048913       NaN       NaN\n",
       "25  0.048913       NaN       NaN       NaN       NaN"
      ]
     },
     "execution_count": 189,
     "metadata": {},
     "output_type": "execute_result"
    }
   ],
   "source": [
    "Dist(0)"
   ]
  },
  {
   "cell_type": "markdown",
   "id": "73f3eac5",
   "metadata": {},
   "source": [
    "$k_0 = k_3 - 20$ i $k_0 = k_1 - 19$"
   ]
  },
  {
   "cell_type": "code",
   "execution_count": 190,
   "id": "ff69f913",
   "metadata": {},
   "outputs": [
    {
     "data": {
      "text/html": [
       "<div>\n",
       "<style scoped>\n",
       "    .dataframe tbody tr th:only-of-type {\n",
       "        vertical-align: middle;\n",
       "    }\n",
       "\n",
       "    .dataframe tbody tr th {\n",
       "        vertical-align: top;\n",
       "    }\n",
       "\n",
       "    .dataframe thead th {\n",
       "        text-align: right;\n",
       "    }\n",
       "</style>\n",
       "<table border=\"1\" class=\"dataframe\">\n",
       "  <thead>\n",
       "    <tr style=\"text-align: right;\">\n",
       "      <th></th>\n",
       "      <th>2</th>\n",
       "      <th>3</th>\n",
       "      <th>4</th>\n",
       "      <th>5</th>\n",
       "    </tr>\n",
       "  </thead>\n",
       "  <tbody>\n",
       "    <tr>\n",
       "      <th>0</th>\n",
       "      <td>NaN</td>\n",
       "      <td>NaN</td>\n",
       "      <td>NaN</td>\n",
       "      <td>NaN</td>\n",
       "    </tr>\n",
       "    <tr>\n",
       "      <th>1</th>\n",
       "      <td>NaN</td>\n",
       "      <td>0.051040</td>\n",
       "      <td>0.066163</td>\n",
       "      <td>0.047259</td>\n",
       "    </tr>\n",
       "    <tr>\n",
       "      <th>2</th>\n",
       "      <td>NaN</td>\n",
       "      <td>NaN</td>\n",
       "      <td>NaN</td>\n",
       "      <td>0.045369</td>\n",
       "    </tr>\n",
       "    <tr>\n",
       "      <th>3</th>\n",
       "      <td>NaN</td>\n",
       "      <td>NaN</td>\n",
       "      <td>0.047259</td>\n",
       "      <td>NaN</td>\n",
       "    </tr>\n",
       "    <tr>\n",
       "      <th>4</th>\n",
       "      <td>NaN</td>\n",
       "      <td>NaN</td>\n",
       "      <td>NaN</td>\n",
       "      <td>0.064272</td>\n",
       "    </tr>\n",
       "    <tr>\n",
       "      <th>5</th>\n",
       "      <td>NaN</td>\n",
       "      <td>0.058601</td>\n",
       "      <td>NaN</td>\n",
       "      <td>NaN</td>\n",
       "    </tr>\n",
       "    <tr>\n",
       "      <th>6</th>\n",
       "      <td>NaN</td>\n",
       "      <td>NaN</td>\n",
       "      <td>NaN</td>\n",
       "      <td>NaN</td>\n",
       "    </tr>\n",
       "    <tr>\n",
       "      <th>7</th>\n",
       "      <td>0.056711</td>\n",
       "      <td>NaN</td>\n",
       "      <td>NaN</td>\n",
       "      <td>NaN</td>\n",
       "    </tr>\n",
       "    <tr>\n",
       "      <th>8</th>\n",
       "      <td>NaN</td>\n",
       "      <td>NaN</td>\n",
       "      <td>NaN</td>\n",
       "      <td>0.077505</td>\n",
       "    </tr>\n",
       "    <tr>\n",
       "      <th>9</th>\n",
       "      <td>NaN</td>\n",
       "      <td>NaN</td>\n",
       "      <td>NaN</td>\n",
       "      <td>NaN</td>\n",
       "    </tr>\n",
       "    <tr>\n",
       "      <th>10</th>\n",
       "      <td>NaN</td>\n",
       "      <td>NaN</td>\n",
       "      <td>0.047259</td>\n",
       "      <td>NaN</td>\n",
       "    </tr>\n",
       "    <tr>\n",
       "      <th>11</th>\n",
       "      <td>0.062382</td>\n",
       "      <td>NaN</td>\n",
       "      <td>NaN</td>\n",
       "      <td>NaN</td>\n",
       "    </tr>\n",
       "    <tr>\n",
       "      <th>12</th>\n",
       "      <td>NaN</td>\n",
       "      <td>0.064272</td>\n",
       "      <td>0.047259</td>\n",
       "      <td>0.064272</td>\n",
       "    </tr>\n",
       "    <tr>\n",
       "      <th>13</th>\n",
       "      <td>NaN</td>\n",
       "      <td>NaN</td>\n",
       "      <td>NaN</td>\n",
       "      <td>NaN</td>\n",
       "    </tr>\n",
       "    <tr>\n",
       "      <th>14</th>\n",
       "      <td>NaN</td>\n",
       "      <td>NaN</td>\n",
       "      <td>0.073724</td>\n",
       "      <td>NaN</td>\n",
       "    </tr>\n",
       "    <tr>\n",
       "      <th>15</th>\n",
       "      <td>0.049149</td>\n",
       "      <td>NaN</td>\n",
       "      <td>NaN</td>\n",
       "      <td>NaN</td>\n",
       "    </tr>\n",
       "    <tr>\n",
       "      <th>16</th>\n",
       "      <td>NaN</td>\n",
       "      <td>0.066163</td>\n",
       "      <td>0.045369</td>\n",
       "      <td>NaN</td>\n",
       "    </tr>\n",
       "    <tr>\n",
       "      <th>17</th>\n",
       "      <td>NaN</td>\n",
       "      <td>NaN</td>\n",
       "      <td>NaN</td>\n",
       "      <td>NaN</td>\n",
       "    </tr>\n",
       "    <tr>\n",
       "      <th>18</th>\n",
       "      <td>NaN</td>\n",
       "      <td>NaN</td>\n",
       "      <td>0.064272</td>\n",
       "      <td>0.049149</td>\n",
       "    </tr>\n",
       "    <tr>\n",
       "      <th>19</th>\n",
       "      <td>NaN</td>\n",
       "      <td>NaN</td>\n",
       "      <td>NaN</td>\n",
       "      <td>0.047259</td>\n",
       "    </tr>\n",
       "    <tr>\n",
       "      <th>20</th>\n",
       "      <td>NaN</td>\n",
       "      <td>NaN</td>\n",
       "      <td>NaN</td>\n",
       "      <td>NaN</td>\n",
       "    </tr>\n",
       "    <tr>\n",
       "      <th>21</th>\n",
       "      <td>NaN</td>\n",
       "      <td>0.056711</td>\n",
       "      <td>NaN</td>\n",
       "      <td>NaN</td>\n",
       "    </tr>\n",
       "    <tr>\n",
       "      <th>22</th>\n",
       "      <td>NaN</td>\n",
       "      <td>NaN</td>\n",
       "      <td>NaN</td>\n",
       "      <td>NaN</td>\n",
       "    </tr>\n",
       "    <tr>\n",
       "      <th>23</th>\n",
       "      <td>NaN</td>\n",
       "      <td>NaN</td>\n",
       "      <td>0.058601</td>\n",
       "      <td>0.049149</td>\n",
       "    </tr>\n",
       "    <tr>\n",
       "      <th>24</th>\n",
       "      <td>NaN</td>\n",
       "      <td>NaN</td>\n",
       "      <td>NaN</td>\n",
       "      <td>NaN</td>\n",
       "    </tr>\n",
       "    <tr>\n",
       "      <th>25</th>\n",
       "      <td>NaN</td>\n",
       "      <td>0.049149</td>\n",
       "      <td>0.056711</td>\n",
       "      <td>NaN</td>\n",
       "    </tr>\n",
       "  </tbody>\n",
       "</table>\n",
       "</div>"
      ],
      "text/plain": [
       "           2         3         4         5\n",
       "0        NaN       NaN       NaN       NaN\n",
       "1        NaN  0.051040  0.066163  0.047259\n",
       "2        NaN       NaN       NaN  0.045369\n",
       "3        NaN       NaN  0.047259       NaN\n",
       "4        NaN       NaN       NaN  0.064272\n",
       "5        NaN  0.058601       NaN       NaN\n",
       "6        NaN       NaN       NaN       NaN\n",
       "7   0.056711       NaN       NaN       NaN\n",
       "8        NaN       NaN       NaN  0.077505\n",
       "9        NaN       NaN       NaN       NaN\n",
       "10       NaN       NaN  0.047259       NaN\n",
       "11  0.062382       NaN       NaN       NaN\n",
       "12       NaN  0.064272  0.047259  0.064272\n",
       "13       NaN       NaN       NaN       NaN\n",
       "14       NaN       NaN  0.073724       NaN\n",
       "15  0.049149       NaN       NaN       NaN\n",
       "16       NaN  0.066163  0.045369       NaN\n",
       "17       NaN       NaN       NaN       NaN\n",
       "18       NaN       NaN  0.064272  0.049149\n",
       "19       NaN       NaN       NaN  0.047259\n",
       "20       NaN       NaN       NaN       NaN\n",
       "21       NaN  0.056711       NaN       NaN\n",
       "22       NaN       NaN       NaN       NaN\n",
       "23       NaN       NaN  0.058601  0.049149\n",
       "24       NaN       NaN       NaN       NaN\n",
       "25       NaN  0.049149  0.056711       NaN"
      ]
     },
     "execution_count": 190,
     "metadata": {},
     "output_type": "execute_result"
    }
   ],
   "source": [
    "Dist(1)"
   ]
  },
  {
   "cell_type": "markdown",
   "id": "d37cc74e",
   "metadata": {},
   "source": [
    "$k_1 = k_2 - 7$ ili $k_1 = k_2 - 11$"
   ]
  },
  {
   "cell_type": "code",
   "execution_count": 194,
   "id": "22861dc9",
   "metadata": {},
   "outputs": [
    {
     "data": {
      "text/html": [
       "<div>\n",
       "<style scoped>\n",
       "    .dataframe tbody tr th:only-of-type {\n",
       "        vertical-align: middle;\n",
       "    }\n",
       "\n",
       "    .dataframe tbody tr th {\n",
       "        vertical-align: top;\n",
       "    }\n",
       "\n",
       "    .dataframe thead th {\n",
       "        text-align: right;\n",
       "    }\n",
       "</style>\n",
       "<table border=\"1\" class=\"dataframe\">\n",
       "  <thead>\n",
       "    <tr style=\"text-align: right;\">\n",
       "      <th></th>\n",
       "      <th>3</th>\n",
       "      <th>4</th>\n",
       "      <th>5</th>\n",
       "    </tr>\n",
       "  </thead>\n",
       "  <tbody>\n",
       "    <tr>\n",
       "      <th>0</th>\n",
       "      <td>NaN</td>\n",
       "      <td>NaN</td>\n",
       "      <td>NaN</td>\n",
       "    </tr>\n",
       "    <tr>\n",
       "      <th>1</th>\n",
       "      <td>0.054820</td>\n",
       "      <td>NaN</td>\n",
       "      <td>0.047259</td>\n",
       "    </tr>\n",
       "    <tr>\n",
       "      <th>2</th>\n",
       "      <td>NaN</td>\n",
       "      <td>NaN</td>\n",
       "      <td>NaN</td>\n",
       "    </tr>\n",
       "    <tr>\n",
       "      <th>3</th>\n",
       "      <td>NaN</td>\n",
       "      <td>0.062382</td>\n",
       "      <td>NaN</td>\n",
       "    </tr>\n",
       "    <tr>\n",
       "      <th>4</th>\n",
       "      <td>NaN</td>\n",
       "      <td>NaN</td>\n",
       "      <td>NaN</td>\n",
       "    </tr>\n",
       "    <tr>\n",
       "      <th>5</th>\n",
       "      <td>0.058601</td>\n",
       "      <td>NaN</td>\n",
       "      <td>NaN</td>\n",
       "    </tr>\n",
       "    <tr>\n",
       "      <th>6</th>\n",
       "      <td>0.058601</td>\n",
       "      <td>NaN</td>\n",
       "      <td>NaN</td>\n",
       "    </tr>\n",
       "    <tr>\n",
       "      <th>7</th>\n",
       "      <td>NaN</td>\n",
       "      <td>0.060491</td>\n",
       "      <td>NaN</td>\n",
       "    </tr>\n",
       "    <tr>\n",
       "      <th>8</th>\n",
       "      <td>NaN</td>\n",
       "      <td>NaN</td>\n",
       "      <td>NaN</td>\n",
       "    </tr>\n",
       "    <tr>\n",
       "      <th>9</th>\n",
       "      <td>0.047259</td>\n",
       "      <td>NaN</td>\n",
       "      <td>NaN</td>\n",
       "    </tr>\n",
       "    <tr>\n",
       "      <th>10</th>\n",
       "      <td>0.049149</td>\n",
       "      <td>NaN</td>\n",
       "      <td>NaN</td>\n",
       "    </tr>\n",
       "    <tr>\n",
       "      <th>11</th>\n",
       "      <td>NaN</td>\n",
       "      <td>0.052930</td>\n",
       "      <td>NaN</td>\n",
       "    </tr>\n",
       "    <tr>\n",
       "      <th>12</th>\n",
       "      <td>NaN</td>\n",
       "      <td>0.056711</td>\n",
       "      <td>0.047259</td>\n",
       "    </tr>\n",
       "    <tr>\n",
       "      <th>13</th>\n",
       "      <td>NaN</td>\n",
       "      <td>NaN</td>\n",
       "      <td>0.060491</td>\n",
       "    </tr>\n",
       "    <tr>\n",
       "      <th>14</th>\n",
       "      <td>0.052930</td>\n",
       "      <td>NaN</td>\n",
       "      <td>NaN</td>\n",
       "    </tr>\n",
       "    <tr>\n",
       "      <th>15</th>\n",
       "      <td>NaN</td>\n",
       "      <td>NaN</td>\n",
       "      <td>NaN</td>\n",
       "    </tr>\n",
       "    <tr>\n",
       "      <th>16</th>\n",
       "      <td>NaN</td>\n",
       "      <td>0.045369</td>\n",
       "      <td>NaN</td>\n",
       "    </tr>\n",
       "    <tr>\n",
       "      <th>17</th>\n",
       "      <td>NaN</td>\n",
       "      <td>0.047259</td>\n",
       "      <td>NaN</td>\n",
       "    </tr>\n",
       "    <tr>\n",
       "      <th>18</th>\n",
       "      <td>NaN</td>\n",
       "      <td>NaN</td>\n",
       "      <td>NaN</td>\n",
       "    </tr>\n",
       "    <tr>\n",
       "      <th>19</th>\n",
       "      <td>NaN</td>\n",
       "      <td>NaN</td>\n",
       "      <td>0.045369</td>\n",
       "    </tr>\n",
       "    <tr>\n",
       "      <th>20</th>\n",
       "      <td>NaN</td>\n",
       "      <td>0.058601</td>\n",
       "      <td>0.052930</td>\n",
       "    </tr>\n",
       "    <tr>\n",
       "      <th>21</th>\n",
       "      <td>NaN</td>\n",
       "      <td>NaN</td>\n",
       "      <td>NaN</td>\n",
       "    </tr>\n",
       "    <tr>\n",
       "      <th>22</th>\n",
       "      <td>NaN</td>\n",
       "      <td>NaN</td>\n",
       "      <td>0.047259</td>\n",
       "    </tr>\n",
       "    <tr>\n",
       "      <th>23</th>\n",
       "      <td>NaN</td>\n",
       "      <td>NaN</td>\n",
       "      <td>0.062382</td>\n",
       "    </tr>\n",
       "    <tr>\n",
       "      <th>24</th>\n",
       "      <td>NaN</td>\n",
       "      <td>NaN</td>\n",
       "      <td>NaN</td>\n",
       "    </tr>\n",
       "    <tr>\n",
       "      <th>25</th>\n",
       "      <td>NaN</td>\n",
       "      <td>NaN</td>\n",
       "      <td>NaN</td>\n",
       "    </tr>\n",
       "  </tbody>\n",
       "</table>\n",
       "</div>"
      ],
      "text/plain": [
       "           3         4         5\n",
       "0        NaN       NaN       NaN\n",
       "1   0.054820       NaN  0.047259\n",
       "2        NaN       NaN       NaN\n",
       "3        NaN  0.062382       NaN\n",
       "4        NaN       NaN       NaN\n",
       "5   0.058601       NaN       NaN\n",
       "6   0.058601       NaN       NaN\n",
       "7        NaN  0.060491       NaN\n",
       "8        NaN       NaN       NaN\n",
       "9   0.047259       NaN       NaN\n",
       "10  0.049149       NaN       NaN\n",
       "11       NaN  0.052930       NaN\n",
       "12       NaN  0.056711  0.047259\n",
       "13       NaN       NaN  0.060491\n",
       "14  0.052930       NaN       NaN\n",
       "15       NaN       NaN       NaN\n",
       "16       NaN  0.045369       NaN\n",
       "17       NaN  0.047259       NaN\n",
       "18       NaN       NaN       NaN\n",
       "19       NaN       NaN  0.045369\n",
       "20       NaN  0.058601  0.052930\n",
       "21       NaN       NaN       NaN\n",
       "22       NaN       NaN  0.047259\n",
       "23       NaN       NaN  0.062382\n",
       "24       NaN       NaN       NaN\n",
       "25       NaN       NaN       NaN"
      ]
     },
     "execution_count": 194,
     "metadata": {},
     "output_type": "execute_result"
    }
   ],
   "source": [
    "Dist(2)"
   ]
  },
  {
   "cell_type": "markdown",
   "id": "18468f7a",
   "metadata": {},
   "source": [
    "$k_2 = k_5 - 13$ ili $k_2 = k_5 - 20$ ili $k_2 = k_5 - 23$"
   ]
  },
  {
   "cell_type": "code",
   "execution_count": 192,
   "id": "c73d11d0",
   "metadata": {},
   "outputs": [
    {
     "data": {
      "text/html": [
       "<div>\n",
       "<style scoped>\n",
       "    .dataframe tbody tr th:only-of-type {\n",
       "        vertical-align: middle;\n",
       "    }\n",
       "\n",
       "    .dataframe tbody tr th {\n",
       "        vertical-align: top;\n",
       "    }\n",
       "\n",
       "    .dataframe thead th {\n",
       "        text-align: right;\n",
       "    }\n",
       "</style>\n",
       "<table border=\"1\" class=\"dataframe\">\n",
       "  <thead>\n",
       "    <tr style=\"text-align: right;\">\n",
       "      <th></th>\n",
       "      <th>4</th>\n",
       "      <th>5</th>\n",
       "    </tr>\n",
       "  </thead>\n",
       "  <tbody>\n",
       "    <tr>\n",
       "      <th>0</th>\n",
       "      <td>NaN</td>\n",
       "      <td>NaN</td>\n",
       "    </tr>\n",
       "    <tr>\n",
       "      <th>1</th>\n",
       "      <td>NaN</td>\n",
       "      <td>NaN</td>\n",
       "    </tr>\n",
       "    <tr>\n",
       "      <th>2</th>\n",
       "      <td>0.058601</td>\n",
       "      <td>NaN</td>\n",
       "    </tr>\n",
       "    <tr>\n",
       "      <th>3</th>\n",
       "      <td>0.045369</td>\n",
       "      <td>0.060491</td>\n",
       "    </tr>\n",
       "    <tr>\n",
       "      <th>4</th>\n",
       "      <td>NaN</td>\n",
       "      <td>NaN</td>\n",
       "    </tr>\n",
       "    <tr>\n",
       "      <th>5</th>\n",
       "      <td>NaN</td>\n",
       "      <td>NaN</td>\n",
       "    </tr>\n",
       "    <tr>\n",
       "      <th>6</th>\n",
       "      <td>0.062382</td>\n",
       "      <td>0.058601</td>\n",
       "    </tr>\n",
       "    <tr>\n",
       "      <th>7</th>\n",
       "      <td>NaN</td>\n",
       "      <td>0.060491</td>\n",
       "    </tr>\n",
       "    <tr>\n",
       "      <th>8</th>\n",
       "      <td>NaN</td>\n",
       "      <td>NaN</td>\n",
       "    </tr>\n",
       "    <tr>\n",
       "      <th>9</th>\n",
       "      <td>NaN</td>\n",
       "      <td>NaN</td>\n",
       "    </tr>\n",
       "    <tr>\n",
       "      <th>10</th>\n",
       "      <td>NaN</td>\n",
       "      <td>NaN</td>\n",
       "    </tr>\n",
       "    <tr>\n",
       "      <th>11</th>\n",
       "      <td>0.056711</td>\n",
       "      <td>NaN</td>\n",
       "    </tr>\n",
       "    <tr>\n",
       "      <th>12</th>\n",
       "      <td>NaN</td>\n",
       "      <td>NaN</td>\n",
       "    </tr>\n",
       "    <tr>\n",
       "      <th>13</th>\n",
       "      <td>0.062382</td>\n",
       "      <td>0.069943</td>\n",
       "    </tr>\n",
       "    <tr>\n",
       "      <th>14</th>\n",
       "      <td>NaN</td>\n",
       "      <td>0.047259</td>\n",
       "    </tr>\n",
       "    <tr>\n",
       "      <th>15</th>\n",
       "      <td>0.047259</td>\n",
       "      <td>NaN</td>\n",
       "    </tr>\n",
       "    <tr>\n",
       "      <th>16</th>\n",
       "      <td>NaN</td>\n",
       "      <td>0.045369</td>\n",
       "    </tr>\n",
       "    <tr>\n",
       "      <th>17</th>\n",
       "      <td>NaN</td>\n",
       "      <td>NaN</td>\n",
       "    </tr>\n",
       "    <tr>\n",
       "      <th>18</th>\n",
       "      <td>NaN</td>\n",
       "      <td>NaN</td>\n",
       "    </tr>\n",
       "    <tr>\n",
       "      <th>19</th>\n",
       "      <td>0.047259</td>\n",
       "      <td>NaN</td>\n",
       "    </tr>\n",
       "    <tr>\n",
       "      <th>20</th>\n",
       "      <td>NaN</td>\n",
       "      <td>NaN</td>\n",
       "    </tr>\n",
       "    <tr>\n",
       "      <th>21</th>\n",
       "      <td>NaN</td>\n",
       "      <td>NaN</td>\n",
       "    </tr>\n",
       "    <tr>\n",
       "      <th>22</th>\n",
       "      <td>0.045369</td>\n",
       "      <td>0.075614</td>\n",
       "    </tr>\n",
       "    <tr>\n",
       "      <th>23</th>\n",
       "      <td>0.054820</td>\n",
       "      <td>NaN</td>\n",
       "    </tr>\n",
       "    <tr>\n",
       "      <th>24</th>\n",
       "      <td>0.058601</td>\n",
       "      <td>NaN</td>\n",
       "    </tr>\n",
       "    <tr>\n",
       "      <th>25</th>\n",
       "      <td>NaN</td>\n",
       "      <td>NaN</td>\n",
       "    </tr>\n",
       "  </tbody>\n",
       "</table>\n",
       "</div>"
      ],
      "text/plain": [
       "           4         5\n",
       "0        NaN       NaN\n",
       "1        NaN       NaN\n",
       "2   0.058601       NaN\n",
       "3   0.045369  0.060491\n",
       "4        NaN       NaN\n",
       "5        NaN       NaN\n",
       "6   0.062382  0.058601\n",
       "7        NaN  0.060491\n",
       "8        NaN       NaN\n",
       "9        NaN       NaN\n",
       "10       NaN       NaN\n",
       "11  0.056711       NaN\n",
       "12       NaN       NaN\n",
       "13  0.062382  0.069943\n",
       "14       NaN  0.047259\n",
       "15  0.047259       NaN\n",
       "16       NaN  0.045369\n",
       "17       NaN       NaN\n",
       "18       NaN       NaN\n",
       "19  0.047259       NaN\n",
       "20       NaN       NaN\n",
       "21       NaN       NaN\n",
       "22  0.045369  0.075614\n",
       "23  0.054820       NaN\n",
       "24  0.058601       NaN\n",
       "25       NaN       NaN"
      ]
     },
     "execution_count": 192,
     "metadata": {},
     "output_type": "execute_result"
    }
   ],
   "source": [
    "Dist(3)"
   ]
  },
  {
   "cell_type": "code",
   "execution_count": 196,
   "id": "f2eb1586",
   "metadata": {},
   "outputs": [
    {
     "data": {
      "text/html": [
       "<div>\n",
       "<style scoped>\n",
       "    .dataframe tbody tr th:only-of-type {\n",
       "        vertical-align: middle;\n",
       "    }\n",
       "\n",
       "    .dataframe tbody tr th {\n",
       "        vertical-align: top;\n",
       "    }\n",
       "\n",
       "    .dataframe thead th {\n",
       "        text-align: right;\n",
       "    }\n",
       "</style>\n",
       "<table border=\"1\" class=\"dataframe\">\n",
       "  <thead>\n",
       "    <tr style=\"text-align: right;\">\n",
       "      <th></th>\n",
       "      <th>5</th>\n",
       "    </tr>\n",
       "  </thead>\n",
       "  <tbody>\n",
       "    <tr>\n",
       "      <th>0</th>\n",
       "      <td>0.047259</td>\n",
       "    </tr>\n",
       "    <tr>\n",
       "      <th>1</th>\n",
       "      <td>NaN</td>\n",
       "    </tr>\n",
       "    <tr>\n",
       "      <th>2</th>\n",
       "      <td>0.049149</td>\n",
       "    </tr>\n",
       "    <tr>\n",
       "      <th>3</th>\n",
       "      <td>NaN</td>\n",
       "    </tr>\n",
       "    <tr>\n",
       "      <th>4</th>\n",
       "      <td>NaN</td>\n",
       "    </tr>\n",
       "    <tr>\n",
       "      <th>5</th>\n",
       "      <td>NaN</td>\n",
       "    </tr>\n",
       "    <tr>\n",
       "      <th>6</th>\n",
       "      <td>NaN</td>\n",
       "    </tr>\n",
       "    <tr>\n",
       "      <th>7</th>\n",
       "      <td>NaN</td>\n",
       "    </tr>\n",
       "    <tr>\n",
       "      <th>8</th>\n",
       "      <td>NaN</td>\n",
       "    </tr>\n",
       "    <tr>\n",
       "      <th>9</th>\n",
       "      <td>0.056711</td>\n",
       "    </tr>\n",
       "    <tr>\n",
       "      <th>10</th>\n",
       "      <td>0.054820</td>\n",
       "    </tr>\n",
       "    <tr>\n",
       "      <th>11</th>\n",
       "      <td>0.052930</td>\n",
       "    </tr>\n",
       "    <tr>\n",
       "      <th>12</th>\n",
       "      <td>NaN</td>\n",
       "    </tr>\n",
       "    <tr>\n",
       "      <th>13</th>\n",
       "      <td>NaN</td>\n",
       "    </tr>\n",
       "    <tr>\n",
       "      <th>14</th>\n",
       "      <td>NaN</td>\n",
       "    </tr>\n",
       "    <tr>\n",
       "      <th>15</th>\n",
       "      <td>NaN</td>\n",
       "    </tr>\n",
       "    <tr>\n",
       "      <th>16</th>\n",
       "      <td>0.062382</td>\n",
       "    </tr>\n",
       "    <tr>\n",
       "      <th>17</th>\n",
       "      <td>NaN</td>\n",
       "    </tr>\n",
       "    <tr>\n",
       "      <th>18</th>\n",
       "      <td>NaN</td>\n",
       "    </tr>\n",
       "    <tr>\n",
       "      <th>19</th>\n",
       "      <td>0.052930</td>\n",
       "    </tr>\n",
       "    <tr>\n",
       "      <th>20</th>\n",
       "      <td>0.047259</td>\n",
       "    </tr>\n",
       "    <tr>\n",
       "      <th>21</th>\n",
       "      <td>NaN</td>\n",
       "    </tr>\n",
       "    <tr>\n",
       "      <th>22</th>\n",
       "      <td>NaN</td>\n",
       "    </tr>\n",
       "    <tr>\n",
       "      <th>23</th>\n",
       "      <td>NaN</td>\n",
       "    </tr>\n",
       "    <tr>\n",
       "      <th>24</th>\n",
       "      <td>NaN</td>\n",
       "    </tr>\n",
       "    <tr>\n",
       "      <th>25</th>\n",
       "      <td>NaN</td>\n",
       "    </tr>\n",
       "  </tbody>\n",
       "</table>\n",
       "</div>"
      ],
      "text/plain": [
       "           5\n",
       "0   0.047259\n",
       "1        NaN\n",
       "2   0.049149\n",
       "3        NaN\n",
       "4        NaN\n",
       "5        NaN\n",
       "6        NaN\n",
       "7        NaN\n",
       "8        NaN\n",
       "9   0.056711\n",
       "10  0.054820\n",
       "11  0.052930\n",
       "12       NaN\n",
       "13       NaN\n",
       "14       NaN\n",
       "15       NaN\n",
       "16  0.062382\n",
       "17       NaN\n",
       "18       NaN\n",
       "19  0.052930\n",
       "20  0.047259\n",
       "21       NaN\n",
       "22       NaN\n",
       "23       NaN\n",
       "24       NaN\n",
       "25       NaN"
      ]
     },
     "execution_count": 196,
     "metadata": {},
     "output_type": "execute_result"
    }
   ],
   "source": [
    "Dist(4)"
   ]
  },
  {
   "cell_type": "markdown",
   "id": "9b9f9ed8",
   "metadata": {},
   "source": [
    "$k_4 = k_5 - 9$ ili $k_4 = k_5 - 16$"
   ]
  },
  {
   "cell_type": "markdown",
   "id": "b33c1408",
   "metadata": {},
   "source": [
    "Sve pretpostavke na istom mjestu: <br> <br>\n",
    "$k_0 = k_3 - 20$ i $k_0 = k_1 - 19$ <br>\n",
    "$k_1 = k_2 - 7$ ili $k_1 = k_2 - 11$ <br>\n",
    "$k_2 = k_5 - 13$ ili $k_2 = k_5 - 20$ ili $k_2 = k_5 - 23$ <br>\n",
    "$k_4 = k_5 - 9$ ili $k_4 = k_5 - 16$"
   ]
  },
  {
   "cell_type": "markdown",
   "id": "24eeecf9",
   "metadata": {},
   "source": [
    "Bez brige o $k_4$ pišemo neke generatore ključa."
   ]
  },
  {
   "cell_type": "code",
   "execution_count": 66,
   "id": "ee1dbbed",
   "metadata": {},
   "outputs": [],
   "source": [
    "def fkljuc1(k) :\n",
    "    Key = [k, k+19, k+19+7, k+20, 0, k+19+13]\n",
    "    for i in range(6) : Key[i] %= 26\n",
    "    return Key\n",
    "\n",
    "def fkljuc2(k) :\n",
    "    Key = [k, k+19, k+19+11, k+20, 0, k+19+20]\n",
    "    for i in range(6) : Key[i] %= 26\n",
    "    return Key\n",
    "\n",
    "def fkljuc3(k) :\n",
    "    Key = [k, k+19, k+19+11, k+20, 0, k+19+23]\n",
    "    for i in range(6) : Key[i] %= 26\n",
    "    return Key\n",
    "\n",
    "def prevedi(kljuc) :\n",
    "    rez = \"\"\n",
    "    for v in kljuc :\n",
    "        rez += pomak(\"A\", v)\n",
    "    return rez"
   ]
  },
  {
   "cell_type": "markdown",
   "id": "447700ce",
   "metadata": {},
   "source": [
    "Ne dobivamo ništa smisleno niti za jedan od slučajeva. Na primjer za jedan od mogućih ključeva:"
   ]
  },
  {
   "cell_type": "code",
   "execution_count": 166,
   "id": "9a259d0e",
   "metadata": {},
   "outputs": [
    {
     "name": "stdout",
     "output_type": "stream",
     "text": [
      "ATAUAG : YVGLCG ASHQYS PAQYYK DZMGBG RLLCTM ALRIKQ GPORUR DNHHKJ TRQG\n",
      "BUBVAH : ZWHMCH BTIRYT QBRZYL EANHBH SMMDTN BMSJKR HQPSUS EOIIKK USRH\n",
      "CVCWAI : AXINCI CUJSYU RCSAYM FBOIBI TNNETO CNTKKS IRQTUT FPJJKL VTSI\n",
      "DWDXAJ : BYJOCJ DVKTYV SDTBYN GCPJBJ UOOFTP DOULKT JSRUUU GQKKKM WUTJ\n",
      "EXEYAK : CZKPCK EWLUYW TEUCYO HDQKBK VPPGTQ EPVMKU KTSVUV HRLLKN XVUK\n",
      "FYFZAL : DALQCL FXMVYX UFVDYP IERLBL WQQHTR FQWNKV LUTWUW ISMMKO YWVL\n",
      "GZGAAM : EBMRCM GYNWYY VGWEYQ JFSMBM XRRITS GRXOKW MVUXUX JTNNKP ZXWM\n",
      "HAHBAN : FCNSCN HZOXYZ WHXFYR KGTNBN YSSJTT HSYPKX NWVYUY KUOOKQ AYXN\n",
      "IBICAO : GDOTCO IAPYYA XIYGYS LHUOBO ZTTKTU ITZQKY OXWZUZ LVPPKR BZYO\n",
      "JCJDAP : HEPUCP JBQZYB YJZHYT MIVPBP AUULTV JUARKZ PYXAUA MWQQKS CAZP\n",
      "KDKEAQ : IFQVCQ KCRAYC ZKAIYU NJWQBQ BVVMTW KVBSKA QZYBUB NXRRKT DBAQ\n",
      "LELFAR : JGRWCR LDSBYD ALBJYV OKXRBR CWWNTX LWCTKB RAZCUC OYSSKU ECBR\n",
      "MFMGAS : KHSXCS METCYE BMCKYW PLYSBS DXXOTY MXDUKC SBADUD PZTTKV FDCS\n",
      "NGNHAT : LITYCT NFUDYF CNDLYX QMZTBT EYYPTZ NYEVKD TCBEUE QAUUKW GEDT\n",
      "OHOIAU : MJUZCU OGVEYG DOEMYY RNAUBU FZZQTA OZFWKE UDCFUF RBVVKX HFEU\n",
      "PIPJAV : NKVACV PHWFYH EPFNYZ SOBVBV GAARTB PAGXKF VEDGUG SCWWKY IGFV\n",
      "QJQKAW : OLWBCW QIXGYI FQGOYA TPCWBW HBBSTC QBHYKG WFEHUH TDXXKZ JHGW\n",
      "RKRLAX : PMXCCX RJYHYJ GRHPYB UQDXBX ICCTTD RCIZKH XGFIUI UEYYKA KIHX\n",
      "SLSMAY : QNYDCY SKZIYK HSIQYC VREYBY JDDUTE SDJAKI YHGJUJ VFZZKB LJIY\n",
      "TMTNAZ : ROZECZ TLAJYL ITJRYD WSFZBZ KEEVTF TEKBKJ ZIHKUK WGAAKC MKJZ\n",
      "UNUOAA : SPAFCA UMBKYM JUKSYE XTGABA LFFWTG UFLCKK AJILUL XHBBKD NLKA\n",
      "VOVPAB : TQBGCB VNCLYN KVLTYF YUHBBB MGGXTH VGMDKL BKJMUM YICCKE OMLB\n",
      "WPWQAC : URCHCC WODMYO LWMUYG ZVICBC NHHYTI WHNEKM CLKNUN ZJDDKF PNMC\n",
      "XQXRAD : VSDICD XPENYP MXNVYH AWJDBD OIIZTJ XIOFKN DMLOUO AKEEKG QOND\n",
      "YRYSAE : WTEJCE YQFOYQ NYOWYI BXKEBE PJJATK YJPGKO ENMPUP BLFFKH RPOE\n",
      "ZSZTAF : XUFKCF ZRGPYR OZPXYJ CYLFBF QKKBTL ZKQHKP FONQUQ CMGGKI SQPF\n"
     ]
    }
   ],
   "source": [
    "for k in range(0, 26) :\n",
    "    rez = \"\"\n",
    "    kljuc = fkljuc1(k)\n",
    "    for i in range(len(sifrat)) :\n",
    "        bindeks = i % 6\n",
    "        rez += pomak(sifrat[i], kljuc[bindeks])\n",
    "        if bindeks == 5 : rez += \" \"\n",
    "    print(f\"{prevedi(kljuc)} : {rez[:60]}\")"
   ]
  },
  {
   "cell_type": "markdown",
   "id": "ce0d0b65",
   "metadata": {},
   "source": [
    "### Druga metoda (uspjeh)\n",
    "Trebaju nam podaci o frekvencijama slova u tekstovima na hrvatskom jeziku."
   ]
  },
  {
   "cell_type": "code",
   "execution_count": 103,
   "id": "e2495255",
   "metadata": {},
   "outputs": [],
   "source": [
    "P = {\n",
    "    \"A\":115,\n",
    "    \"I\":98, \n",
    "    \"O\":90, \n",
    "    \"E\":84, \n",
    "    \"N\":66, \n",
    "    \"S\":56, \n",
    "    \"R\":54, \n",
    "    \"J\":51, \n",
    "    \"T\":48, \n",
    "    \"U\":43, \n",
    "    \"D\":37, \n",
    "    \"K\":36, \n",
    "    \"V\":35, \n",
    "    \"L\":33, \n",
    "    \"M\":31, \n",
    "    \"P\":29,\n",
    "    \"C\":28, \n",
    "    \"Z\":23, \n",
    "    \"G\":16,\n",
    "    \"B\":15, \n",
    "    \"H\":8, \n",
    "    \"F\":3\n",
    "}\n",
    "\n",
    "# pretvaramo u postotke\n",
    "for k, v in P.items() :\n",
    "    P[k] = v / 1000"
   ]
  },
  {
   "cell_type": "markdown",
   "id": "08f0e490",
   "metadata": {},
   "source": [
    "Sljedeća funkcija `MIc` je zapravo $\\text{MI}_c(x, \\cdot)$ gdje je $x$ neki -tipičan tekst na hrvatskom jeziku."
   ]
  },
  {
   "cell_type": "code",
   "execution_count": 84,
   "id": "b26d83ce",
   "metadata": {},
   "outputs": [],
   "source": [
    "def MIc(z) : \n",
    "    f = frekvencije(z)\n",
    "    n = len(z)\n",
    "    Sum = 0\n",
    "    for c in \"ABCDEFGHIJKLMNOPQRSTUVXYZ\" :\n",
    "        try : Sum += P[c]*f[c]/n\n",
    "        except KeyError : pass\n",
    "    return Sum"
   ]
  },
  {
   "cell_type": "markdown",
   "id": "a79c1a39",
   "metadata": {},
   "source": [
    "Pogledajmo kako se ponaša na primjer na nultom bloku."
   ]
  },
  {
   "cell_type": "code",
   "execution_count": 100,
   "id": "e001b525",
   "metadata": {},
   "outputs": [
    {
     "name": "stdout",
     "output_type": "stream",
     "text": [
      "0 : 0.04170833333333334\n",
      "-1 : 0.03575\n",
      "-2 : 0.037625000000000006\n",
      "-3 : 0.04733333333333333\n",
      "-4 : 0.024874999999999998\n",
      "-5 : 0.025541666666666667\n",
      "-6 : 0.045125\n",
      "-7 : 0.03691666666666667\n",
      "-8 : 0.029625000000000002\n",
      "-9 : 0.03875\n",
      "-10 : 0.034416666666666665\n",
      "-11 : 0.041708333333333326\n",
      "-12 : 0.04004166666666666\n",
      "-13 : 0.03508333333333333\n",
      "-14 : 0.03854166666666667\n",
      "-15 : 0.06133333333333332\n",
      "-16 : 0.03558333333333333\n",
      "-17 : 0.034125\n",
      "-18 : 0.043708333333333335\n",
      "-19 : 0.04\n",
      "-20 : 0.03620833333333333\n",
      "-21 : 0.04525\n",
      "-22 : 0.035875\n",
      "-23 : 0.037625\n",
      "-24 : 0.03991666666666667\n",
      "-25 : 0.036333333333333336\n"
     ]
    }
   ],
   "source": [
    "for h in range(0, -26, -1) :\n",
    "    mic = MIc(pomakni(blokovi[0], h))\n",
    "    print(f\"{h} : {mic}\")"
   ]
  },
  {
   "cell_type": "markdown",
   "id": "0095aa8f",
   "metadata": {},
   "source": [
    "Vrijednosti izgledaju puno pravilnije. Večinom su manje od $0.044$ i jedna je oko $0.064$. Izračunajmo sada za svaki blok maksimalnu vrijednost indeksa koincidencije i za koji pomak se dobiva."
   ]
  },
  {
   "cell_type": "code",
   "execution_count": 92,
   "id": "461d6374",
   "metadata": {},
   "outputs": [
    {
     "name": "stdout",
     "output_type": "stream",
     "text": [
      "blok = 0 : M = 0.06133333333333332, za h = -15\n",
      "blok = 1 : M = 0.06208695652173914, za h = -14\n",
      "blok = 2 : M = 0.05939130434782609, za h = -25\n",
      "blok = 3 : M = 0.06665217391304348, za h = -4\n",
      "blok = 4 : M = 0.058347826086956524, za h = -6\n",
      "blok = 5 : M = 0.06491304347826087, za h = 0\n"
     ]
    }
   ],
   "source": [
    "for bindex in range(6) :\n",
    "    mics = {}\n",
    "    for h in range(0, -26, -1) :\n",
    "        mics[h] = MIc(pomakni(blokovi[bindex], h))\n",
    "    M = max(mics.values())\n",
    "    h = [k for k, v in mics.items() if v == M][0]\n",
    "        \n",
    "    print(f\"blok = {bindex} : M = {M}, za h = {h}\")"
   ]
  },
  {
   "cell_type": "markdown",
   "id": "00fc531d",
   "metadata": {},
   "source": [
    "Dakle numerička reprezentacija ključa je $(15,14,25,4,6,0)$."
   ]
  },
  {
   "cell_type": "code",
   "execution_count": 104,
   "id": "c28ab3cb",
   "metadata": {},
   "outputs": [
    {
     "data": {
      "text/plain": [
       "'POZEGA'"
      ]
     },
     "execution_count": 104,
     "metadata": {},
     "output_type": "execute_result"
    }
   ],
   "source": [
    "prevedi(kljuc := (15,14,25,4,6,0))"
   ]
  },
  {
   "cell_type": "markdown",
   "id": "fb762f01",
   "metadata": {},
   "source": [
    "**Ključna riječ je POZEGA**. <br>\n",
    "Dešifrirajmo sada tekst."
   ]
  },
  {
   "cell_type": "code",
   "execution_count": 108,
   "id": "c48192ff",
   "metadata": {},
   "outputs": [
    {
     "name": "stdout",
     "output_type": "stream",
     "text": [
      "JOHNWALLISSMATRASEOSNIVACEMENGLESKEKRIPTOLOGIJEDEKRIPTIRANJENIZAPORUKANAZAHTJEVPARLAMENTADONIJELOMUJEKATEDRUGEOMETRIJENASVEUCILISTUUOXFORDU\n"
     ]
    }
   ],
   "source": [
    "tekst = \"\"\n",
    "for i in range(len(sifrat)) :\n",
    "    bindex = i % 6\n",
    "    tekst += pomakni(sifrat[i], -kljuc[bindex])\n",
    "print(tekst)"
   ]
  },
  {
   "cell_type": "markdown",
   "id": "59064397",
   "metadata": {},
   "source": [
    "Otvoreni tekst je: <br>\n",
    "**JOHN WALLIS SMATRA SE OSNIVAČEM ENGLESKE KRIPTOLOGIJE. DEKRIPTIRANJE NIZA PORUKA NA ZAHTJEV PARLAMENTA DONIJELO MU JE KATEDRU GEOMETRIJE NASVEUČILIŠTU U OXFORDU**"
   ]
  },
  {
   "cell_type": "markdown",
   "id": "2164e42b",
   "metadata": {},
   "source": [
    "## Zadatak 2"
   ]
  },
  {
   "cell_type": "markdown",
   "id": "5a13c767",
   "metadata": {},
   "source": [
    "Ubacujemo podatke u varijable."
   ]
  },
  {
   "cell_type": "code",
   "execution_count": 16,
   "id": "39c235bf",
   "metadata": {},
   "outputs": [],
   "source": [
    "otvoreni = \"GIOVANNI SORO\"\n",
    "kljuc = \"CRYPTANALYSIS\""
   ]
  },
  {
   "cell_type": "markdown",
   "id": "9f9a55a6",
   "metadata": {},
   "source": [
    "Uređujemo podatke tako da ih možemo koristiti u algoritmu."
   ]
  },
  {
   "cell_type": "code",
   "execution_count": 17,
   "id": "a3ca82f1",
   "metadata": {},
   "outputs": [
    {
     "data": {
      "text/plain": [
       "['GI', 'OV', 'AN', 'NI', 'SO', 'RO']"
      ]
     },
     "execution_count": 17,
     "metadata": {},
     "output_type": "execute_result"
    }
   ],
   "source": [
    "otvoreni = otvoreni.replace(\" \", \"\")\n",
    "blokovi = []\n",
    "for i in range(0, len(otvoreni), 2) :\n",
    "    blokovi.append(otvoreni[i] + otvoreni[i+1])\n",
    "    \n",
    "blokovi"
   ]
  },
  {
   "cell_type": "code",
   "execution_count": 19,
   "id": "bedc1065",
   "metadata": {},
   "outputs": [
    {
     "data": {
      "text/plain": [
       "'CRYPTANLSIBDEFGHJKMOQUVXZ'"
      ]
     },
     "execution_count": 19,
     "metadata": {},
     "output_type": "execute_result"
    }
   ],
   "source": [
    "koristeni = set()\n",
    "key = \"\"\n",
    "for c in kljuc + \"ABCDEFGHIJKLMNOPQRSTUVXYZ\" :\n",
    "    if not c in koristeni : \n",
    "        key += c\n",
    "        koristeni.add(c)\n",
    "        \n",
    "key"
   ]
  },
  {
   "cell_type": "markdown",
   "id": "2ff2719a",
   "metadata": {},
   "source": [
    "Konstruiramo matricu."
   ]
  },
  {
   "cell_type": "code",
   "execution_count": 31,
   "id": "281631ff",
   "metadata": {},
   "outputs": [],
   "source": [
    "def show(M) :\n",
    "    for r in range(0,5) :\n",
    "        for c in range(0,5) :\n",
    "            print(matrica[r][c], end=\" \")\n",
    "        print()"
   ]
  },
  {
   "cell_type": "code",
   "execution_count": 37,
   "id": "88b95684",
   "metadata": {},
   "outputs": [
    {
     "name": "stdout",
     "output_type": "stream",
     "text": [
      "C R Y P T \n",
      "A N L S I \n",
      "B D E F G \n",
      "H J K M O \n",
      "Q U V X Z \n"
     ]
    }
   ],
   "source": [
    "matrica = np.chararray((5,5), unicode=True)\n",
    "i = 0\n",
    "for r in range(0,5) :\n",
    "    for c in range(0,5) :\n",
    "        matrica[r][c] = key[i]\n",
    "        i += 1\n",
    "        \n",
    "show(matrica)"
   ]
  },
  {
   "cell_type": "markdown",
   "id": "f1960ade",
   "metadata": {},
   "source": [
    "Šifrirajmo blokove teksta. Funkcija `polozaj` vraća koordinate slova u matrici --- (redak, stupac)."
   ]
  },
  {
   "cell_type": "code",
   "execution_count": 45,
   "id": "7664096f",
   "metadata": {},
   "outputs": [],
   "source": [
    "def polozaj(M, c) :\n",
    "    mask = M.find(c)\n",
    "    for i in range(0, 5) :\n",
    "        for j in range(0, 5) :\n",
    "            if mask[i][j] == 0 : return (i, j)"
   ]
  },
  {
   "cell_type": "markdown",
   "id": "1d8ccf57",
   "metadata": {},
   "source": [
    "Ovisno o kojem od tri slučaja se radi, šifriramo blokove od dva slova."
   ]
  },
  {
   "cell_type": "code",
   "execution_count": 52,
   "id": "8db77f32",
   "metadata": {},
   "outputs": [],
   "source": [
    "def sifriraj(c, d) :\n",
    "    cr, cc = polozaj(matrica, c)\n",
    "    dr, dc = polozaj(matrica, d)\n",
    "    # isti redak\n",
    "    if cr == dr :\n",
    "        return (\n",
    "            matrica[cr][(cc + 1) % 5],\n",
    "            matrica[cr][(dc + 1) % 5]\n",
    "        )\n",
    "    # isti stupac\n",
    "    elif cc == dc :\n",
    "        return (\n",
    "            matrica[(cr + 1) % 5][cc],\n",
    "            matrica[(dr + 1) % 5][cc]\n",
    "        )\n",
    "    # pravokutnik\n",
    "    else :\n",
    "        return (\n",
    "            matrica[cr][dc],\n",
    "            matrica[dr][cc]\n",
    "        )"
   ]
  },
  {
   "cell_type": "code",
   "execution_count": 57,
   "id": "311bdeb7",
   "metadata": {},
   "outputs": [
    {
     "name": "stdout",
     "output_type": "stream",
     "text": [
      "OGKZNLLAIMTJ\n"
     ]
    }
   ],
   "source": [
    "sifrat = \"\"\n",
    "\n",
    "for c, d in blokovi:\n",
    "    ce, de = sifriraj(c, d)\n",
    "    sifrat += ce + de\n",
    "    \n",
    "print(sifrat)"
   ]
  },
  {
   "cell_type": "markdown",
   "id": "e99eb93d",
   "metadata": {},
   "source": [
    "Dakle šifrirani tekst je **OGKZNLLAIMTJ**"
   ]
  },
  {
   "cell_type": "markdown",
   "id": "ebe57272",
   "metadata": {},
   "source": [
    "## Zadatak 3"
   ]
  },
  {
   "cell_type": "code",
   "execution_count": 118,
   "id": "cf9236f1",
   "metadata": {},
   "outputs": [
    {
     "name": "stdout",
     "output_type": "stream",
     "text": [
      "['VE', 'RN', 'AM']\n",
      "['PJ', 'KZ', 'YU']\n"
     ]
    }
   ],
   "source": [
    "otvoreni = \"VERNAM\"\n",
    "sifrat = \"PJKZYU\"\n",
    "\n",
    "o_blokovi = []\n",
    "s_blokovi = []\n",
    "for i in range(0,6,2) :\n",
    "    o_blokovi.append(otvoreni[i:i+2])\n",
    "    s_blokovi.append(sifrat[i:i+2])\n",
    "    \n",
    "print(o_blokovi)\n",
    "print(s_blokovi)"
   ]
  },
  {
   "cell_type": "markdown",
   "id": "47bd6317",
   "metadata": {},
   "source": [
    "Reprezentirajmo numeričkim ekvivalentima blokove tekstova."
   ]
  },
  {
   "cell_type": "code",
   "execution_count": 119,
   "id": "1c846436",
   "metadata": {},
   "outputs": [
    {
     "name": "stdout",
     "output_type": "stream",
     "text": [
      "[(21, 4), (17, 13), (0, 12)]\n",
      "[(15, 9), (10, 25), (24, 20)]\n"
     ]
    }
   ],
   "source": [
    "co_blokovi = []\n",
    "cs_blokovi = []\n",
    "\n",
    "for c,d in o_blokovi :\n",
    "    co_blokovi.append((ord(c)-65, ord(d)-65))\n",
    "for c,d in s_blokovi :\n",
    "    cs_blokovi.append((ord(c)-65, ord(d)-65))\n",
    "    \n",
    "print(co_blokovi)\n",
    "print(cs_blokovi)"
   ]
  },
  {
   "cell_type": "code",
   "execution_count": 130,
   "id": "cc676df2",
   "metadata": {},
   "outputs": [
    {
     "name": "stdout",
     "output_type": "stream",
     "text": [
      "[[21  4]\n",
      " [17 13]]\n",
      "\n",
      "[[15  9]\n",
      " [10 25]]\n"
     ]
    }
   ],
   "source": [
    "X = np.matrix(co_blokovi[0:2])\n",
    "Y = np.matrix(cs_blokovi[0:2])\n",
    "print(X)\n",
    "print()\n",
    "print(Y)"
   ]
  },
  {
   "cell_type": "markdown",
   "id": "0f33f1b2",
   "metadata": {},
   "source": [
    "Provjerimo ima li matrica $X$ inverz. Determinanta od $X$ je:"
   ]
  },
  {
   "cell_type": "code",
   "execution_count": 134,
   "id": "50b6e0d7",
   "metadata": {},
   "outputs": [
    {
     "data": {
      "text/plain": [
       "23"
      ]
     },
     "execution_count": 134,
     "metadata": {},
     "output_type": "execute_result"
    }
   ],
   "source": [
    "int(np.linalg.det(X)) % 26"
   ]
  },
  {
   "cell_type": "markdown",
   "id": "2736968c",
   "metadata": {},
   "source": [
    "Tražimo inverz od $23$ modulo $26$."
   ]
  },
  {
   "cell_type": "code",
   "execution_count": 137,
   "id": "4bb63f1d",
   "metadata": {},
   "outputs": [
    {
     "data": {
      "text/plain": [
       "[17]"
      ]
     },
     "execution_count": 137,
     "metadata": {},
     "output_type": "execute_result"
    }
   ],
   "source": [
    "[n for n in range(1, 27) if (23 * n) % 26 == 1]"
   ]
  },
  {
   "cell_type": "markdown",
   "id": "9c820b47",
   "metadata": {},
   "source": [
    "Računamo inverz od $X$ : `Xi`."
   ]
  },
  {
   "cell_type": "code",
   "execution_count": 147,
   "id": "71e0755e",
   "metadata": {},
   "outputs": [
    {
     "name": "stdout",
     "output_type": "stream",
     "text": [
      "[[13 10]\n",
      " [23 19]]\n"
     ]
    }
   ],
   "source": [
    "Xi = 17 * np.matrix([\n",
    "    [13, -4],\n",
    "    [-17, 21]\n",
    "]) \n",
    "Xi %= 26\n",
    "print(Xi)"
   ]
  },
  {
   "cell_type": "markdown",
   "id": "d3c970b2",
   "metadata": {},
   "source": [
    "Provjera."
   ]
  },
  {
   "cell_type": "code",
   "execution_count": 150,
   "id": "2fb577ce",
   "metadata": {},
   "outputs": [
    {
     "name": "stdout",
     "output_type": "stream",
     "text": [
      "[[1 0]\n",
      " [0 1]]\n"
     ]
    }
   ],
   "source": [
    "print((Xi * X) % 26)"
   ]
  },
  {
   "cell_type": "code",
   "execution_count": 152,
   "id": "4915fbe9",
   "metadata": {},
   "outputs": [
    {
     "name": "stdout",
     "output_type": "stream",
     "text": [
      "[[ 9  3]\n",
      " [15  6]]\n"
     ]
    }
   ],
   "source": [
    "K = (Xi * Y) % 26\n",
    "print(K)"
   ]
  },
  {
   "cell_type": "markdown",
   "id": "6ffaa1f1",
   "metadata": {},
   "source": [
    "Provjerimo preslikavaju li se blokovi korektno. Očekujemo parove:"
   ]
  },
  {
   "cell_type": "code",
   "execution_count": 154,
   "id": "41f49093",
   "metadata": {},
   "outputs": [
    {
     "name": "stdout",
     "output_type": "stream",
     "text": [
      "[(15, 9), (10, 25), (24, 20)]\n"
     ]
    }
   ],
   "source": [
    "print(cs_blokovi)"
   ]
  },
  {
   "cell_type": "code",
   "execution_count": 158,
   "id": "e9d4e875",
   "metadata": {},
   "outputs": [
    {
     "name": "stdout",
     "output_type": "stream",
     "text": [
      "[[15  9]]\n",
      "[[10 25]]\n",
      "[[24 20]]\n"
     ]
    }
   ],
   "source": [
    "for par in co_blokovi :\n",
    "    print((np.matrix(par) * K) % 26)"
   ]
  },
  {
   "cell_type": "markdown",
   "id": "0466062a",
   "metadata": {},
   "source": [
    "Dakle, \n",
    "$ K = \\left (\n",
    "\\begin{array}{cc} \n",
    "    9 & 3 \\\\\n",
    "    15 & 6\n",
    "\\end{array}\n",
    "\\right )\n",
    "$"
   ]
  }
 ],
 "metadata": {
  "kernelspec": {
   "display_name": "Python 3 (ipykernel)",
   "language": "python",
   "name": "python3"
  },
  "language_info": {
   "codemirror_mode": {
    "name": "ipython",
    "version": 3
   },
   "file_extension": ".py",
   "mimetype": "text/x-python",
   "name": "python",
   "nbconvert_exporter": "python",
   "pygments_lexer": "ipython3",
   "version": "3.9.16"
  }
 },
 "nbformat": 4,
 "nbformat_minor": 5
}
